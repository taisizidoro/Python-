{
  "nbformat": 4,
  "nbformat_minor": 0,
  "metadata": {
    "colab": {
      "name": "Projeto_2_Perceptrons.ipynb",
      "provenance": [],
      "authorship_tag": "ABX9TyM7aLG0TSIUtuiHXDkPgTuJ",
      "include_colab_link": true
    },
    "kernelspec": {
      "name": "python3",
      "display_name": "Python 3"
    }
  },
  "cells": [
    {
      "cell_type": "markdown",
      "metadata": {
        "id": "view-in-github",
        "colab_type": "text"
      },
      "source": [
        "<a href=\"https://colab.research.google.com/github/taisizidoro/Python-/blob/master/Projeto_2_Perceptrons.ipynb\" target=\"_parent\"><img src=\"https://colab.research.google.com/assets/colab-badge.svg\" alt=\"Open In Colab\"/></a>"
      ]
    },
    {
      "cell_type": "markdown",
      "metadata": {
        "id": "Lq2qFtUNaKX1"
      },
      "source": [
        "1) Criar uma Classe Perceptron em Python. Vocês podem seguir o esqueleto de Classe apresentado abaixo."
      ]
    },
    {
      "cell_type": "code",
      "metadata": {
        "id": "m-a-UMb3OjG_"
      },
      "source": [
        "## ESQUELETO DE CLASSE PERCEPTRON\r\n",
        "import numpy as np\r\n",
        "\r\n",
        "class Perceptron():\r\n",
        "\r\n",
        "    def __init__(self, no_of_inputs, threshold=100, learning_rate=0.01):\r\n",
        "        '''\r\n",
        "        método de inicialização que tem os seguintes atributos:\r\n",
        "        no_of_inputs: número de features passadas como input ao perceptron\r\n",
        "        threshold: número de iterações de atualização do peso\r\n",
        "        learning_rate: taxa com a qual os pesos são atualizados a cada iteração\r\n",
        "        weights: inicialização dos pesos (dica: pode inicializar com método np.zeros). Não se esquecer que o vetor dos pesos\r\n",
        "        terá no_of_inputs + 1 elementos por conta do bias que é o primeiro elemento.\r\n",
        "        '''\r\n",
        "        \r\n",
        "           \r\n",
        "    def predict(self, inputs):\r\n",
        "      '''\r\n",
        "      método de implementação da função de ativação.\r\n",
        "      inputs: array com o conjunto de inputs (features). No projeto pedimos que considerassem o comprimento e largura da pétala da Iris.\r\n",
        "      Não se esquecer que o produto da função de ativação é um produto escalar e pode ser calculado pelo método np.dot\r\n",
        "      '''\r\n",
        "        \r\n",
        "\r\n",
        "    def train(self, training_inputs, labels):\r\n",
        "      '''\r\n",
        "      método de treino. É aqui que os pesos são atualizados um certo número de vezes (determinado pelo valor do threshold).\r\n",
        "      Nesse método é feita a comparação entre o resultado da função de ativação (predição) e\r\n",
        "      o resultado esperado (label).\r\n",
        "      O método deve atualizar tanto os pesos quanto o bias (lembre que o bias é o primeiro valor do vetor peso e tem input 1.)\r\n",
        "      A atualização é feita iterativamente um número (threshold) de vezes.\r\n",
        "      '''"
      ],
      "execution_count": 68,
      "outputs": []
    },
    {
      "cell_type": "code",
      "metadata": {
        "id": "BLD6yByoOCF0"
      },
      "source": [
        "import numpy as np\r\n",
        "\r\n",
        "class Perceptron(object):\r\n",
        "\r\n",
        "    def __init__(self, no_of_inputs, threshold=100, learning_rate=0.01):\r\n",
        "        self.threshold = threshold\r\n",
        "        self.learning_rate = learning_rate\r\n",
        "        self.weights = np.zeros(no_of_inputs + 1)\r\n",
        "           \r\n",
        "    def predict(self, inputs):\r\n",
        "        summation = np.dot(inputs, self.weights[1:]) + self.weights[0]\r\n",
        "        if summation > 0:\r\n",
        "          activation = 1\r\n",
        "        else:\r\n",
        "          activation = 0            \r\n",
        "        return activation\r\n",
        "\r\n",
        "    def train(self, training_inputs, labels):\r\n",
        "        for _ in range(self.threshold):\r\n",
        "            for inputs, label in zip(training_inputs, labels):\r\n",
        "                prediction = self.predict(inputs)\r\n",
        "                self.weights[1:] += self.learning_rate * (label - prediction) * np.array(inputs)\r\n",
        "                self.weights[0] += self.learning_rate * (label - prediction)"
      ],
      "execution_count": 88,
      "outputs": []
    },
    {
      "cell_type": "markdown",
      "metadata": {
        "id": "k8uvwTVWaTY0"
      },
      "source": [
        "2) Aplique essa classe nos dados das flores Iris para determinar se uma Iris com um certo comprimento e largura da pétala é uma Iris Setosa."
      ]
    },
    {
      "cell_type": "code",
      "metadata": {
        "colab": {
          "base_uri": "https://localhost:8080/"
        },
        "id": "ML0HmFzcOwgY",
        "outputId": "13845afa-5a03-473c-8a89-93083cad239b"
      },
      "source": [
        "import numpy as np\r\n",
        "from sklearn.datasets import load_iris\r\n",
        "from sklearn.linear_model import Perceptron\r\n",
        "\r\n",
        "iris = load_iris() # returns a dictionary-like object\r\n",
        "# características (features) das flores Iris:\r\n",
        "print(iris.target_names)    # target = label\r\n",
        "print(iris.feature_names)\r\n",
        "\r\n",
        "# Pelo primeiro print acima, as features são: 0: sepal length, 1: sepal width, 2: petal length, 3: petal width\r\n",
        "# Vamos selecionar somente as features petal length e petal width:\r\n",
        "X = iris.data[:, (2,3)]  # nos retorna um array com 150 conjuntos de inputs\r\n",
        "#len(iris.data[:,(2,3)])\r\n",
        "y = (iris.target == 0).astype(int)  # label = iris setosa. Retorna uma lista com os labels da Iris-Setosa. 0: não, 1: sim\r\n",
        "\r\n",
        "perceptron_clf = Perceptron()      # dois inputs: comprimento e largura da pétala\r\n",
        "perceptron_clf.fit(X,y)            # Train\r\n",
        "\r\n",
        "y_pred = perceptron_clf.predict([[1,0.5]])  # predict\r\n",
        "print(y_pred)"
      ],
      "execution_count": 113,
      "outputs": [
        {
          "output_type": "stream",
          "text": [
            "['setosa' 'versicolor' 'virginica']\n",
            "['sepal length (cm)', 'sepal width (cm)', 'petal length (cm)', 'petal width (cm)']\n",
            "[1]\n"
          ],
          "name": "stdout"
        }
      ]
    },
    {
      "cell_type": "code",
      "metadata": {
        "colab": {
          "base_uri": "https://localhost:8080/"
        },
        "id": "Xw4ekNuNOjjE",
        "outputId": "9c0d53d1-76d0-4d81-8dbb-afa5b90eeb14"
      },
      "source": [
        "# Modelo de como deve funcionar com a classe criada nesse projeto\r\n",
        "#Para aqui dar certo, tem que rodar a classe Perceptron de novo \r\n",
        "\r\n",
        "perceptron = Perceptron()\r\n",
        "X = iris.data[:, (2,3)]             # inputs\r\n",
        "y = (iris.target == 0).astype(int)  # label = iris setosa. Retorna uma lista com os labels da Iris-Setosa. 0: não, 1: sim\r\n",
        "#print(y)\r\n",
        "\r\n",
        "treino = perceptron_clf.fit(X,y)\r\n",
        "pred = perceptron_clf.predict([[4, 0.5]])\r\n",
        "print(pred)"
      ],
      "execution_count": 114,
      "outputs": [
        {
          "output_type": "stream",
          "text": [
            "[0]\n"
          ],
          "name": "stdout"
        }
      ]
    },
    {
      "cell_type": "markdown",
      "metadata": {
        "id": "jbb0fMFcb2Xc"
      },
      "source": [
        "3) Compare o resultado da sua classe com a classe Peceptron do módulo do scikit-learn linear_model."
      ]
    },
    {
      "cell_type": "code",
      "metadata": {
        "colab": {
          "base_uri": "https://localhost:8080/"
        },
        "id": "UtQqtXABbXyD",
        "outputId": "1149ce49-b205-4bb3-91a0-31b599b86675"
      },
      "source": [
        "from sklearn.linear_model import Perceptron as p\r\n",
        "\r\n",
        "perceptron = p()\r\n",
        "X = iris.data[:, (2,3)]             # inputs\r\n",
        "y = (iris.target == 0).astype(int)  # label = iris setosa. Retorna uma lista com os labels da Iris-Setosa. 0: não, 1: sim\r\n",
        "#print(y)\r\n",
        "\r\n",
        "treino = perceptron_clf.fit(X,y)\r\n",
        "pred = perceptron_clf.predict([[4, 0.5]])\r\n",
        "print(pred)"
      ],
      "execution_count": 115,
      "outputs": [
        {
          "output_type": "stream",
          "text": [
            "[0]\n"
          ],
          "name": "stdout"
        }
      ]
    },
    {
      "cell_type": "markdown",
      "metadata": {
        "id": "j0SF0mfVjksS"
      },
      "source": [
        "Você pode pensar em algum outro exemplo em que possa aplicar o modelo do Perceptron? Quando esse modelo falha?"
      ]
    },
    {
      "cell_type": "markdown",
      "metadata": {
        "id": "f6N8_aYKlXhE"
      },
      "source": [
        "Um único Perceptron consegue resolver somente funções linearmente separáveis. Em funções não linearmente separáveis, o Perceptron não consegue separar os dados, ou seja, ele falha. Podemos aplicar o modelo de Perceptron acima, de camada unica, para por exemplo, comparar sequências de DNA para fazer identificação genotípica de espécies. "
      ]
    }
  ]
}