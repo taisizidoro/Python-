{
  "nbformat": 4,
  "nbformat_minor": 0,
  "metadata": {
    "colab": {
      "name": "variaveis_expressoes_declaracoes_funcoes_aula_2_1.ipynb",
      "provenance": [],
      "authorship_tag": "ABX9TyPUhltUnraOdWjDwxCPWw8c",
      "include_colab_link": true
    },
    "kernelspec": {
      "name": "python3",
      "display_name": "Python 3"
    }
  },
  "cells": [
    {
      "cell_type": "markdown",
      "metadata": {
        "id": "view-in-github",
        "colab_type": "text"
      },
      "source": [
        "<a href=\"https://colab.research.google.com/github/taisizidoro/Python-/blob/master/variaveis_expressoes_declaracoes_funcoes_aula_2_1.ipynb\" target=\"_parent\"><img src=\"https://colab.research.google.com/assets/colab-badge.svg\" alt=\"Open In Colab\"/></a>"
      ]
    },
    {
      "cell_type": "markdown",
      "metadata": {
        "id": "mtbYD33-RhGS",
        "colab_type": "text"
      },
      "source": [
        "Considere as seguintes declarações de atribuições:\n",
        "\n",
        "largura = 17  |\n",
        "altura = 12.0   |\n",
        "delimitador = \".\"\n",
        "\n",
        "Para cada uma das expressões a seguir, escreva o valor das expressões e o tipo (do valor da expressão):\n",
        "\n",
        "largura/2  |\n",
        "largura/2.0  |\n",
        "altura/3  |\n",
        "1 + 2 * 5  |\n",
        "delimitador*5\n"
      ]
    },
    {
      "cell_type": "code",
      "metadata": {
        "id": "7LFQ9VDeRNQh",
        "colab_type": "code",
        "colab": {
          "base_uri": "https://localhost:8080/",
          "height": 102
        },
        "outputId": "beb4c819-6b6d-4e43-cfbe-bfff8c351cd6"
      },
      "source": [
        "largura = 17\n",
        "altura = 12.0\n",
        "delimitador = \".\"\n",
        "\n",
        "exp1 = largura/2 \n",
        "print(\"largura/2 = \", exp1, type(exp1))\n",
        "\n",
        "exp2 = largura/2.0\n",
        "print(\"largura/2.0 = \", exp2, type(exp2))\n",
        "\n",
        "exp3 = altura/3\n",
        "print(\"altura/3 = \", exp3, type(exp3))\n",
        "\n",
        "exp4 = 1+2*5\n",
        "print(\"1+2*5 = \", exp4, type(exp4))\n",
        "\n",
        "exp5 = delimitador*5\n",
        "print(\"delimitador*5 = \", exp5, type(exp5))\n"
      ],
      "execution_count": 6,
      "outputs": [
        {
          "output_type": "stream",
          "text": [
            "largura/2 =  8.5 <class 'float'>\n",
            "largura/2.0 =  8.5 <class 'float'>\n",
            "altura/3 =  4.0 <class 'float'>\n",
            "1+2*5 =  11 <class 'int'>\n",
            "delimitador*5 =  ..... <class 'str'>\n"
          ],
          "name": "stdout"
        }
      ]
    }
  ]
}