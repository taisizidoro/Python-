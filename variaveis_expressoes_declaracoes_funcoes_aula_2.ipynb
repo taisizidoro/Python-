{
  "nbformat": 4,
  "nbformat_minor": 0,
  "metadata": {
    "colab": {
      "name": "variaveis_expressoes_declaracoes_funcoes_aula_2_1.ipynb",
      "provenance": [],
      "authorship_tag": "ABX9TyOcmIcamv01vUXc1Ks6Z00J",
      "include_colab_link": true
    },
    "kernelspec": {
      "name": "python3",
      "display_name": "Python 3"
    }
  },
  "cells": [
    {
      "cell_type": "markdown",
      "metadata": {
        "id": "view-in-github",
        "colab_type": "text"
      },
      "source": [
        "<a href=\"https://colab.research.google.com/github/taisizidoro/Python-/blob/master/variaveis_expressoes_declaracoes_funcoes_aula_2_1.ipynb\" target=\"_parent\"><img src=\"https://colab.research.google.com/assets/colab-badge.svg\" alt=\"Open In Colab\"/></a>"
      ]
    },
    {
      "cell_type": "markdown",
      "metadata": {
        "id": "mtbYD33-RhGS"
      },
      "source": [
        "Considere as seguintes declarações de atribuições:\n",
        "\n",
        "largura = 17  |\n",
        "altura = 12.0   |\n",
        "delimitador = \".\"\n",
        "\n",
        "Para cada uma das expressões a seguir, escreva o valor das expressões e o tipo (do valor da expressão):\n",
        "\n",
        "largura/2  |\n",
        "largura/2.0  |\n",
        "altura/3  |\n",
        "1 + 2 * 5  |\n",
        "delimitador*5\n"
      ]
    },
    {
      "cell_type": "code",
      "metadata": {
        "id": "7LFQ9VDeRNQh",
        "outputId": "beb4c819-6b6d-4e43-cfbe-bfff8c351cd6",
        "colab": {
          "base_uri": "https://localhost:8080/",
          "height": 102
        }
      },
      "source": [
        "largura = 17\n",
        "altura = 12.0\n",
        "delimitador = \".\"\n",
        "\n",
        "exp1 = largura/2 \n",
        "print(\"largura/2 = \", exp1, type(exp1))\n",
        "\n",
        "exp2 = largura/2.0\n",
        "print(\"largura/2.0 = \", exp2, type(exp2))\n",
        "\n",
        "exp3 = altura/3\n",
        "print(\"altura/3 = \", exp3, type(exp3))\n",
        "\n",
        "exp4 = 1+2*5\n",
        "print(\"1+2*5 = \", exp4, type(exp4))\n",
        "\n",
        "exp5 = delimitador*5\n",
        "print(\"delimitador*5 = \", exp5, type(exp5))\n"
      ],
      "execution_count": null,
      "outputs": [
        {
          "output_type": "stream",
          "text": [
            "largura/2 =  8.5 <class 'float'>\n",
            "largura/2.0 =  8.5 <class 'float'>\n",
            "altura/3 =  4.0 <class 'float'>\n",
            "1+2*5 =  11 <class 'int'>\n",
            "delimitador*5 =  ..... <class 'str'>\n"
          ],
          "name": "stdout"
        }
      ]
    },
    {
      "cell_type": "markdown",
      "metadata": {
        "id": "K_TCu_f0z26B"
      },
      "source": [
        "O volume de uma esfera de raio r é $\\frac{4}{3} \\pi r^{3}$\n",
        "\n",
        "Qual é o volume de uma esfera de raio 5?"
      ]
    },
    {
      "cell_type": "code",
      "metadata": {
        "id": "6YyJj53hz8rl"
      },
      "source": [
        "from numpy import pi\n",
        "r = 5\n",
        "volume = (4/3)*(r**3)*pi\n",
        "print(\"volume = \", round(volume,1))"
      ],
      "execution_count": null,
      "outputs": []
    },
    {
      "cell_type": "markdown",
      "metadata": {
        "id": "ZcKt2Dnsz_27"
      },
      "source": [
        "Suponha que o preço de um livro seja 24.95 reais, porém as livrarias têm desconto de 40%. Os custos de envio são de 3.00 reais para o primeiro livro e 0.75 reais para os livros adicionais. Qual é o custo total da compra de 60 livros?"
      ]
    },
    {
      "cell_type": "code",
      "metadata": {
        "id": "JhyruUq00Ez_"
      },
      "source": [
        "preço = 24.95\n",
        "desconto = 40/100*preço\n",
        "quantidade = 60\n",
        "custo = 3.00+0.75*(quantidade-1)\n",
        "\n",
        "venda = (preço-desconto)*quantidade+custo\n",
        "print(\"o custo total da compra é de \",venda, \"reais.\")"
      ],
      "execution_count": null,
      "outputs": []
    },
    {
      "cell_type": "markdown",
      "metadata": {
        "id": "a9AAS3zc0MPh"
      },
      "source": [
        "Um laser vermelho (com comprimento de onda $\\lambda = 632.8$ nm) incide em uma fenda dupla produzindo um padrão de interferência com franjas claras e escuras, em um anteparo situado a uma distância D = 1.98 m da fenda. Calcule a distância $\\Delta y$ entre dois máximos consecutivos de interferência. Considere o espaçamento entre as fendas, $d$, como sendo igual a 0.250 mm. Dica: a distância entre dois máximos de interferência consecutivos pode ser aproximada por $\\Delta y = \\frac{\\lambda D}{d}$."
      ]
    },
    {
      "cell_type": "code",
      "metadata": {
        "id": "PY8neYGr0M1r"
      },
      "source": [
        "λ = 632.8*(10**(-9))\n",
        "D = 1.98\n",
        "d = 0.250*(10**(-3))\n",
        "\n",
        "Δy = λ*D/d\n",
        "print(\"A distância entre os dois máximos consecutivos é de \", Δy, \"metros.\")"
      ],
      "execution_count": null,
      "outputs": []
    }
  ]
}
