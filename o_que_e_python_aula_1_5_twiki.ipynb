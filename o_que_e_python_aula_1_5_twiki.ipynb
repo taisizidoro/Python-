{
  "nbformat": 4,
  "nbformat_minor": 0,
  "metadata": {
    "colab": {
      "name": "o_que_e_python_aula_1_5_twiki.ipynb",
      "provenance": [],
      "authorship_tag": "ABX9TyNZMCrnp987orsAXJcox6pd",
      "include_colab_link": true
    },
    "kernelspec": {
      "name": "python3",
      "display_name": "Python 3"
    }
  },
  "cells": [
    {
      "cell_type": "markdown",
      "metadata": {
        "id": "view-in-github",
        "colab_type": "text"
      },
      "source": [
        "<a href=\"https://colab.research.google.com/github/taisizidoro/Python-/blob/master/o_que_e_python_aula_1_5_twiki.ipynb\" target=\"_parent\"><img src=\"https://colab.research.google.com/assets/colab-badge.svg\" alt=\"Open In Colab\"/></a>"
      ]
    },
    {
      "cell_type": "markdown",
      "metadata": {
        "id": "gaRFkrbVsqP-",
        "colab_type": "text"
      },
      "source": [
        "Calcule o seu %$IMC = \\dfrac{M}{A^2}$% (com a massa em Kg e a altura em metros). Um valor saudável estara --em geral-- entre 20-25. Um bebê de 6 meses \"gorducho\" tem 70 cm de \"comprimento\" e 11 kg de massa, qual o IMC dele?"
      ]
    },
    {
      "cell_type": "code",
      "metadata": {
        "id": "JpwcpuCdslJ3",
        "colab_type": "code",
        "colab": {
          "base_uri": "https://localhost:8080/",
          "height": 34
        },
        "outputId": "57d5421c-1e07-4842-9df5-a8bb4fe66dc5"
      },
      "source": [
        "m_bb = 11\n",
        "a_bb = 0.7\n",
        "\n",
        "IMC = m_bb/(a_bb**2)\n",
        "print(\"o IMC do bebê é de\", round(IMC, 0))"
      ],
      "execution_count": 4,
      "outputs": [
        {
          "output_type": "stream",
          "text": [
            "o IMC do bebê é de 22.0\n"
          ],
          "name": "stdout"
        }
      ]
    }
  ]
}