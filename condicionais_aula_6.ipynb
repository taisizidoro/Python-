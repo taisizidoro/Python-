{
  "nbformat": 4,
  "nbformat_minor": 0,
  "metadata": {
    "colab": {
      "name": "condicionais_aula_6.ipynb",
      "provenance": [],
      "authorship_tag": "ABX9TyPliHSSCAMklb7q0byiO9Pe",
      "include_colab_link": true
    },
    "kernelspec": {
      "name": "python3",
      "display_name": "Python 3"
    }
  },
  "cells": [
    {
      "cell_type": "markdown",
      "metadata": {
        "id": "view-in-github",
        "colab_type": "text"
      },
      "source": [
        "<a href=\"https://colab.research.google.com/github/taisizidoro/Python-/blob/master/condicionais_aula_6.ipynb\" target=\"_parent\"><img src=\"https://colab.research.google.com/assets/colab-badge.svg\" alt=\"Open In Colab\"/></a>"
      ]
    },
    {
      "cell_type": "markdown",
      "metadata": {
        "id": "MSvDXZ6Udsgf"
      },
      "source": [
        "### Exercícios\n",
        "\n",
        "1. Considere o seguinte script:"
      ]
    },
    {
      "cell_type": "code",
      "metadata": {
        "colab": {
          "base_uri": "https://localhost:8080/"
        },
        "id": "8h_glPPQdZ9S",
        "outputId": "a2f0b75b-992f-4b96-8011-b89572ad4c2e"
      },
      "source": [
        "!pip3 install ColabTurtle"
      ],
      "execution_count": 1,
      "outputs": [
        {
          "output_type": "stream",
          "text": [
            "Collecting ColabTurtle\n",
            "  Downloading https://files.pythonhosted.org/packages/49/01/6da7091c2c6c917cce99c000b89acb6aa27b66ef6eafc0c0ccf59b98694f/ColabTurtle-2.0.0.tar.gz\n",
            "Building wheels for collected packages: ColabTurtle\n",
            "  Building wheel for ColabTurtle (setup.py) ... \u001b[?25l\u001b[?25hdone\n",
            "  Created wheel for ColabTurtle: filename=ColabTurtle-2.0.0-cp36-none-any.whl size=4032 sha256=23d3cdbadb7a457d69f2eeb48a7c061e504c21741b385a3a06788af522112d9d\n",
            "  Stored in directory: /root/.cache/pip/wheels/a8/29/ec/ad346f0042ae467cc74f4378916348faf975b07890651dcae7\n",
            "Successfully built ColabTurtle\n",
            "Installing collected packages: ColabTurtle\n",
            "Successfully installed ColabTurtle-2.0.0\n"
          ],
          "name": "stdout"
        }
      ]
    },
    {
      "cell_type": "code",
      "metadata": {
        "colab": {
          "base_uri": "https://localhost:8080/",
          "height": 521
        },
        "id": "oQIv1xykd5t0",
        "outputId": "b6d9cc75-9f90-4ef0-e437-b3759d20746d"
      },
      "source": [
        "import ColabTurtle.Turtle as tess\n",
        "\n",
        "def draw_bar(t, height):\n",
        "    \"\"\" Get turtle t to draw one bar, of height. \"\"\"\n",
        "    t.forward(height)\n",
        "    t.right(90)\n",
        "    t.forward(40)\n",
        "    t.right(90)\n",
        "    t.forward(height)\n",
        "    t.left(90)\n",
        "    t.forward(10)\n",
        "    t.left(90)\n",
        "\n",
        "tess.initializeTurtle()   # inicialização\n",
        "\n",
        "tess.color(\"blue\")\n",
        "tess.bgcolor(\"white\")\n",
        "tess.penup() #levantar a caneta\n",
        "tess.goto(10,450) #mudar posicao de inicio \n",
        "tess.pendown() #abaixar a caneta\n",
        "\n",
        "xs = [48,117,200,240,160,260,220]\n",
        "\n",
        "for a in xs:\n",
        "    draw_bar(tess, a)"
      ],
      "execution_count": 2,
      "outputs": [
        {
          "output_type": "display_data",
          "data": {
            "text/html": [
              "\n",
              "      <svg width=\"800\" height=\"500\">\n",
              "        <rect width=\"100%\" height=\"100%\" fill=\"white\"/>\n",
              "        <line x1=\"10\" y1=\"450\" x2=\"9.999999999999991\" y2=\"402.0\" stroke-linecap=\"round\" style=\"stroke:blue;stroke-width:4\"/><line x1=\"9.999999999999991\" y1=\"402.0\" x2=\"49.99999999999999\" y2=\"402.0\" stroke-linecap=\"round\" style=\"stroke:blue;stroke-width:4\"/><line x1=\"49.99999999999999\" y1=\"402.0\" x2=\"49.99999999999999\" y2=\"450.0\" stroke-linecap=\"round\" style=\"stroke:blue;stroke-width:4\"/><line x1=\"49.99999999999999\" y1=\"450.0\" x2=\"59.99999999999999\" y2=\"450.0\" stroke-linecap=\"round\" style=\"stroke:blue;stroke-width:4\"/><line x1=\"59.99999999999999\" y1=\"450.0\" x2=\"59.99999999999997\" y2=\"333.0\" stroke-linecap=\"round\" style=\"stroke:blue;stroke-width:4\"/><line x1=\"59.99999999999997\" y1=\"333.0\" x2=\"99.99999999999997\" y2=\"333.0\" stroke-linecap=\"round\" style=\"stroke:blue;stroke-width:4\"/><line x1=\"99.99999999999997\" y1=\"333.0\" x2=\"99.99999999999999\" y2=\"450.0\" stroke-linecap=\"round\" style=\"stroke:blue;stroke-width:4\"/><line x1=\"99.99999999999999\" y1=\"450.0\" x2=\"109.99999999999999\" y2=\"450.0\" stroke-linecap=\"round\" style=\"stroke:blue;stroke-width:4\"/><line x1=\"109.99999999999999\" y1=\"450.0\" x2=\"109.99999999999994\" y2=\"250.0\" stroke-linecap=\"round\" style=\"stroke:blue;stroke-width:4\"/><line x1=\"109.99999999999994\" y1=\"250.0\" x2=\"149.99999999999994\" y2=\"250.0\" stroke-linecap=\"round\" style=\"stroke:blue;stroke-width:4\"/><line x1=\"149.99999999999994\" y1=\"250.0\" x2=\"149.99999999999994\" y2=\"450.0\" stroke-linecap=\"round\" style=\"stroke:blue;stroke-width:4\"/><line x1=\"149.99999999999994\" y1=\"450.0\" x2=\"159.99999999999994\" y2=\"450.0\" stroke-linecap=\"round\" style=\"stroke:blue;stroke-width:4\"/><line x1=\"159.99999999999994\" y1=\"450.0\" x2=\"159.9999999999999\" y2=\"210.0\" stroke-linecap=\"round\" style=\"stroke:blue;stroke-width:4\"/><line x1=\"159.9999999999999\" y1=\"210.0\" x2=\"199.9999999999999\" y2=\"210.0\" stroke-linecap=\"round\" style=\"stroke:blue;stroke-width:4\"/><line x1=\"199.9999999999999\" y1=\"210.0\" x2=\"199.99999999999991\" y2=\"450.0\" stroke-linecap=\"round\" style=\"stroke:blue;stroke-width:4\"/><line x1=\"199.99999999999991\" y1=\"450.0\" x2=\"209.99999999999991\" y2=\"450.0\" stroke-linecap=\"round\" style=\"stroke:blue;stroke-width:4\"/><line x1=\"209.99999999999991\" y1=\"450.0\" x2=\"209.9999999999999\" y2=\"290.0\" stroke-linecap=\"round\" style=\"stroke:blue;stroke-width:4\"/><line x1=\"209.9999999999999\" y1=\"290.0\" x2=\"249.9999999999999\" y2=\"290.0\" stroke-linecap=\"round\" style=\"stroke:blue;stroke-width:4\"/><line x1=\"249.9999999999999\" y1=\"290.0\" x2=\"249.9999999999999\" y2=\"450.0\" stroke-linecap=\"round\" style=\"stroke:blue;stroke-width:4\"/><line x1=\"249.9999999999999\" y1=\"450.0\" x2=\"259.9999999999999\" y2=\"450.0\" stroke-linecap=\"round\" style=\"stroke:blue;stroke-width:4\"/><line x1=\"259.9999999999999\" y1=\"450.0\" x2=\"259.99999999999983\" y2=\"190.0\" stroke-linecap=\"round\" style=\"stroke:blue;stroke-width:4\"/><line x1=\"259.99999999999983\" y1=\"190.0\" x2=\"299.99999999999983\" y2=\"190.0\" stroke-linecap=\"round\" style=\"stroke:blue;stroke-width:4\"/><line x1=\"299.99999999999983\" y1=\"190.0\" x2=\"299.99999999999983\" y2=\"450.0\" stroke-linecap=\"round\" style=\"stroke:blue;stroke-width:4\"/><line x1=\"299.99999999999983\" y1=\"450.0\" x2=\"309.99999999999983\" y2=\"450.0\" stroke-linecap=\"round\" style=\"stroke:blue;stroke-width:4\"/><line x1=\"309.99999999999983\" y1=\"450.0\" x2=\"309.9999999999998\" y2=\"230.0\" stroke-linecap=\"round\" style=\"stroke:blue;stroke-width:4\"/><line x1=\"309.9999999999998\" y1=\"230.0\" x2=\"349.9999999999998\" y2=\"230.0\" stroke-linecap=\"round\" style=\"stroke:blue;stroke-width:4\"/><line x1=\"349.9999999999998\" y1=\"230.0\" x2=\"349.9999999999998\" y2=\"450.0\" stroke-linecap=\"round\" style=\"stroke:blue;stroke-width:4\"/><line x1=\"349.9999999999998\" y1=\"450.0\" x2=\"359.9999999999998\" y2=\"450.0\" stroke-linecap=\"round\" style=\"stroke:blue;stroke-width:4\"/>\n",
              "        \n",
              "      <g visibility=visible transform=\"rotate(180,359.9999999999998,450.0) translate(359.9999999999998, 450.0)\">\n",
              "        <circle stroke=\"blue\" stroke-width=\"3\" fill=\"transparent\" r=\"12\" cx=\"0\" cy=\"0\"/>\n",
              "        <polygon points=\"0,19 3,16 -3,16\" style=\"fill:blue;stroke:blue;stroke-width:2\"/>\n",
              "      </g>\n",
              "    \n",
              "      </svg>\n",
              "    "
            ],
            "text/plain": [
              "<IPython.core.display.HTML object>"
            ]
          },
          "metadata": {
            "tags": []
          }
        }
      ]
    },
    {
      "cell_type": "markdown",
      "metadata": {
        "id": "VjFgznbdd9my"
      },
      "source": [
        "1) Modifique-o para que o resultado seja um **histograma**, como o mostrado na figura abaixo.\n",
        "Amplie seu script para que seja possível passar ao programa dados (frequência), com o valor do bin (classe de frequência) e cores determinados pelo usuário.\n",
        "\n",
        "\n",
        "Adicione declarações condicionais à função para casos passíveis de gerar erros, como por exemplo, se alguma variável do argumento da \n",
        "função não for definida.\n",
        "\n",
        "***Exemplo***: amplie sua função para tomar como argumento uma lista que contenha as frequências do histograma e verifique que o argumento realmente é uma lista. Caso não seja, imprima uma mensagem de erro.\n",
        "\n",
        "![](https://github.com/malbouis/Python_intro/blob/master/aulas_2019/pics/histo.png)\n"
      ]
    },
    {
      "cell_type": "code",
      "metadata": {
        "colab": {
          "base_uri": "https://localhost:8080/",
          "height": 521
        },
        "id": "AouRvSjGd-P-",
        "outputId": "fbb6d798-fed5-4926-91d9-7d2a7c517a0a"
      },
      "source": [
        "import ColabTurtle.Turtle as tess\n",
        "\n",
        "def draw_bar(t, height, width, color):\n",
        "    t.color(color)\n",
        "    t.forward(height)\n",
        "    t.right(90)\n",
        "    t.forward(width)\n",
        "    t.right(90)\n",
        "    t.forward(height)\n",
        "    t.left(180)\n",
        "\n",
        "def hist(turtle, xcont, xbins, color = \"blue\"):\n",
        "    tess.penup()\n",
        "    tess.goto(1,450)\n",
        "    tess.pendown()\n",
        "    if (len(xcont) != len(xbins)-1):\n",
        "        print(\"ERROR: number of bins and bins contents does not match.\")\n",
        "        return\n",
        "    for i in range(1, len(xbins)):\n",
        "        if (xbins[i] < xbins[i-1]):\n",
        "            print(\"ERROR: bins must be in order.\")\n",
        "            return\n",
        "        if (xbins[i] == xbins[i-1]):\n",
        "            print(\"ERROR: bins should not have 0 size.\")\n",
        "            return\n",
        "    for i in range(len(xcont)):\n",
        "        draw_bar(turtle, xcont[i], xbins[i+1] - xbins[i], color)\n",
        "\n",
        "tess.initializeTurtle()   # inicialização\n",
        "tess.speed(10)\n",
        "tess.color(\"blue\")\n",
        "tess.bgcolor(\"purple\")\n",
        "xcont = [48,117,200,240,160,260,220]\n",
        "xbins = [0,5,10, 19,45,76,82,97]\n",
        "hist(tess, xcont, xbins, \"blue\")"
      ],
      "execution_count": 10,
      "outputs": [
        {
          "output_type": "display_data",
          "data": {
            "text/html": [
              "\n",
              "      <svg width=\"800\" height=\"500\">\n",
              "        <rect width=\"100%\" height=\"100%\" fill=\"purple\"/>\n",
              "        <line x1=\"1\" y1=\"450\" x2=\"0.9999999999999912\" y2=\"402.0\" stroke-linecap=\"round\" style=\"stroke:blue;stroke-width:4\"/><line x1=\"0.9999999999999912\" y1=\"402.0\" x2=\"5.999999999999991\" y2=\"402.0\" stroke-linecap=\"round\" style=\"stroke:blue;stroke-width:4\"/><line x1=\"5.999999999999991\" y1=\"402.0\" x2=\"5.999999999999994\" y2=\"450.0\" stroke-linecap=\"round\" style=\"stroke:blue;stroke-width:4\"/><line x1=\"5.999999999999994\" y1=\"450.0\" x2=\"5.9999999999999725\" y2=\"333.0\" stroke-linecap=\"round\" style=\"stroke:blue;stroke-width:4\"/><line x1=\"5.9999999999999725\" y1=\"333.0\" x2=\"10.999999999999972\" y2=\"333.0\" stroke-linecap=\"round\" style=\"stroke:blue;stroke-width:4\"/><line x1=\"10.999999999999972\" y1=\"333.0\" x2=\"10.999999999999979\" y2=\"450.0\" stroke-linecap=\"round\" style=\"stroke:blue;stroke-width:4\"/><line x1=\"10.999999999999979\" y1=\"450.0\" x2=\"10.999999999999941\" y2=\"250.0\" stroke-linecap=\"round\" style=\"stroke:blue;stroke-width:4\"/><line x1=\"10.999999999999941\" y1=\"250.0\" x2=\"19.999999999999943\" y2=\"250.0\" stroke-linecap=\"round\" style=\"stroke:blue;stroke-width:4\"/><line x1=\"19.999999999999943\" y1=\"250.0\" x2=\"19.999999999999954\" y2=\"450.0\" stroke-linecap=\"round\" style=\"stroke:blue;stroke-width:4\"/><line x1=\"19.999999999999954\" y1=\"450.0\" x2=\"19.99999999999991\" y2=\"210.0\" stroke-linecap=\"round\" style=\"stroke:blue;stroke-width:4\"/><line x1=\"19.99999999999991\" y1=\"210.0\" x2=\"45.999999999999915\" y2=\"210.0\" stroke-linecap=\"round\" style=\"stroke:blue;stroke-width:4\"/><line x1=\"45.999999999999915\" y1=\"210.0\" x2=\"45.99999999999993\" y2=\"450.0\" stroke-linecap=\"round\" style=\"stroke:blue;stroke-width:4\"/><line x1=\"45.99999999999993\" y1=\"450.0\" x2=\"45.9999999999999\" y2=\"290.0\" stroke-linecap=\"round\" style=\"stroke:blue;stroke-width:4\"/><line x1=\"45.9999999999999\" y1=\"290.0\" x2=\"76.9999999999999\" y2=\"290.0\" stroke-linecap=\"round\" style=\"stroke:blue;stroke-width:4\"/><line x1=\"76.9999999999999\" y1=\"290.0\" x2=\"76.99999999999991\" y2=\"450.0\" stroke-linecap=\"round\" style=\"stroke:blue;stroke-width:4\"/><line x1=\"76.99999999999991\" y1=\"450.0\" x2=\"76.99999999999987\" y2=\"190.0\" stroke-linecap=\"round\" style=\"stroke:blue;stroke-width:4\"/><line x1=\"76.99999999999987\" y1=\"190.0\" x2=\"82.99999999999987\" y2=\"190.0\" stroke-linecap=\"round\" style=\"stroke:blue;stroke-width:4\"/><line x1=\"82.99999999999987\" y1=\"190.0\" x2=\"82.99999999999989\" y2=\"450.0\" stroke-linecap=\"round\" style=\"stroke:blue;stroke-width:4\"/><line x1=\"82.99999999999989\" y1=\"450.0\" x2=\"82.99999999999984\" y2=\"230.0\" stroke-linecap=\"round\" style=\"stroke:blue;stroke-width:4\"/><line x1=\"82.99999999999984\" y1=\"230.0\" x2=\"97.99999999999984\" y2=\"230.0\" stroke-linecap=\"round\" style=\"stroke:blue;stroke-width:4\"/><line x1=\"97.99999999999984\" y1=\"230.0\" x2=\"97.99999999999986\" y2=\"450.0\" stroke-linecap=\"round\" style=\"stroke:blue;stroke-width:4\"/>\n",
              "        \n",
              "      <g visibility=visible transform=\"rotate(180,97.99999999999986,450.0) translate(97.99999999999986, 450.0)\">\n",
              "        <circle stroke=\"blue\" stroke-width=\"3\" fill=\"transparent\" r=\"12\" cx=\"0\" cy=\"0\"/>\n",
              "        <polygon points=\"0,19 3,16 -3,16\" style=\"fill:blue;stroke:blue;stroke-width:2\"/>\n",
              "      </g>\n",
              "    \n",
              "      </svg>\n",
              "    "
            ],
            "text/plain": [
              "<IPython.core.display.HTML object>"
            ]
          },
          "metadata": {
            "tags": []
          }
        }
      ]
    },
    {
      "cell_type": "markdown",
      "metadata": {
        "id": "HTl6X5YceGF7"
      },
      "source": [
        "2) Repita o exercício 1) usando **Manipulação de exceção em Python** (pesquisem!!!!), com as cláusulas ```try``` e ```except```.  <=== **A ser apresentado em sala de aula**."
      ]
    },
    {
      "cell_type": "code",
      "metadata": {
        "id": "lUe2XX4yeGnq"
      },
      "source": [
        "import ColabTurtle.Turtle as tess\n",
        "\n",
        "def draw_bar(t, height, width, color):\n",
        "    t.color(color)\n",
        "    t.forward(height)\n",
        "    t.right(90) \n",
        "    t.forward(width)\n",
        "    t.right(90)\n",
        "    t.forward(height)\n",
        "    t.left(180)\n",
        "\n",
        "def hist(turtle, xcont, xbins, color = \"blue\"):\n",
        "    tess.penup()\n",
        "    tess.goto(10,450)\n",
        "    tess.pendown()\n",
        "    for i in range(1, len(xbins)):\n",
        "        if (xbins[i] < xbins[i-1]):\n",
        "            print(\"ERROR: bins must be in order.\")\n",
        "            return\n",
        "        if (xbins[i] == xbins[i-1]):\n",
        "            print(\"ERROR: bins should not have 0 size.\")\n",
        "            return\n",
        "    for i in range(len(xcont)):\n",
        "        draw_bar(turtle, xcont[i], xbins[i+1] - xbins[i], color)\n",
        "\n",
        "tess.initializeTurtle()   # inicialização\n",
        "tess.speed(10)\n",
        "tess.color(\"blue\")\n",
        "tess.bgcolor(\"purple\")\n",
        "xcont = [48,117,200,240,160,260,220]\n",
        "xbins = [0,5,10, 19,45,76,82,97]\n",
        "\n",
        "try:\n",
        "    hist(tess, xcont, xbins, \"blue\")\n",
        "except:\n",
        "    print(\"ERROR: something went wrong.\")"
      ],
      "execution_count": null,
      "outputs": []
    },
    {
      "cell_type": "markdown",
      "metadata": {
        "id": "W5pCQoQZeNx8"
      },
      "source": [
        "2) **Desafio**: Faça um programa equivalente ao do item 1., utilizando ***matplotlib*** e ***numpy*** ao invés de ***turtle***"
      ]
    },
    {
      "cell_type": "code",
      "metadata": {
        "colab": {
          "base_uri": "https://localhost:8080/",
          "height": 265
        },
        "id": "fbxer2GIeQLk",
        "outputId": "3b2b4e46-9fa6-4e47-afd2-5b9d65eba745"
      },
      "source": [
        "import matplotlib.pyplot as plt\n",
        "\n",
        "altura = [1,2,8,3,8,9,4,8,6]\n",
        "bins = [1,2,3,5,6,7,8,9,10]\n",
        "plt.hist(bins, bins, weights=altura)\n",
        "plt.show()"
      ],
      "execution_count": 13,
      "outputs": [
        {
          "output_type": "display_data",
          "data": {
            "image/png": "[encoded data removed]",
            "text/plain": [
              "<Figure size 432x288 with 1 Axes>"
            ]
          },
          "metadata": {
            "tags": [],
            "needs_background": "light"
          }
        }
      ]
    }
  ]
}