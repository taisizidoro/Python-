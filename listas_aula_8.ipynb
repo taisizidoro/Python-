{
  "nbformat": 4,
  "nbformat_minor": 0,
  "metadata": {
    "colab": {
      "name": "listas_aula_8.ipynb",
      "provenance": [],
      "authorship_tag": "ABX9TyNm9H+sdERwp4c/tAGibDd5",
      "include_colab_link": true
    },
    "kernelspec": {
      "name": "python3",
      "display_name": "Python 3"
    }
  },
  "cells": [
    {
      "cell_type": "markdown",
      "metadata": {
        "id": "view-in-github",
        "colab_type": "text"
      },
      "source": [
        "<a href=\"https://colab.research.google.com/github/taisizidoro/Python-/blob/master/listas_aula_8.ipynb\" target=\"_parent\"><img src=\"https://colab.research.google.com/assets/colab-badge.svg\" alt=\"Open In Colab\"/></a>"
      ]
    },
    {
      "cell_type": "markdown",
      "metadata": {
        "id": "Eeu7_3kzjfwQ"
      },
      "source": [
        "Exercício: percorra toda a 'string' banana, utilizando as interações apresentadas nas aulas anteriores, e imprima na tela uma letra por linha como se fosse em uma escada."
      ]
    },
    {
      "cell_type": "code",
      "metadata": {
        "id": "-P93EBD_i_Tb",
        "outputId": "0b6d7c1c-508f-44ab-dbb6-f0305229cb3f",
        "colab": {
          "base_uri": "https://localhost:8080/",
          "height": 119
        }
      },
      "source": [
        "fruta = \"banana\"\n",
        "for i in range(len(fruta)):\n",
        "  print(\" \"*i + fruta[i])"
      ],
      "execution_count": null,
      "outputs": [
        {
          "output_type": "stream",
          "text": [
            "b\n",
            " a\n",
            "  n\n",
            "   a\n",
            "    n\n",
            "     a\n"
          ],
          "name": "stdout"
        }
      ]
    },
    {
      "cell_type": "markdown",
      "metadata": {
        "id": "ju0GDUy8lLmq"
      },
      "source": [
        "Exercício: escreva uma função que receba uma string como argumento e exiba as letras de trás para a frente, uma por linha."
      ]
    },
    {
      "cell_type": "code",
      "metadata": {
        "id": "PtvZGkYNlM4o",
        "outputId": "7652336a-e3b8-4202-a36d-cb51e4c71146",
        "colab": {
          "base_uri": "https://localhost:8080/",
          "height": 119
        }
      },
      "source": [
        "cont = len(fruta)\n",
        "for i in range(len(fruta)):\n",
        "  print(fruta[cont-i-1])"
      ],
      "execution_count": null,
      "outputs": [
        {
          "output_type": "stream",
          "text": [
            "a\n",
            "n\n",
            "a\n",
            "n\n",
            "a\n",
            "b\n"
          ],
          "name": "stdout"
        }
      ]
    },
    {
      "cell_type": "markdown",
      "metadata": {
        "id": "VFUmRTGop3IR"
      },
      "source": [
        "Resolução numérica de equações diferenciais. Imagine que tem um/a maratonista treinando, que num trecho de $5 km$ tem velocidade quase constante de $12 km/h$. Produza uma lista distância percorrida em intervalos de 1 minuto."
      ]
    },
    {
      "cell_type": "code",
      "metadata": {
        "id": "ignqvrWCqbcY",
        "outputId": "063b30d3-3485-45f4-82b3-bbb481cb6f7d",
        "colab": {
          "base_uri": "https://localhost:8080/",
          "height": 51
        }
      },
      "source": [
        "distancia = []\n",
        "s = 5 #km\n",
        "v = 0.2 #km/min\n",
        "t = 1\n",
        "tf = int(s/v)\n",
        "\n",
        "for t in range(t,tf):\n",
        "  s1 = v*t\n",
        "  distancia.append(round(s1,2))\n",
        "\n",
        "\n",
        "print(distancia)\n",
        "print(\"o maratonista leva\", len(distancia), \"minutos para percorrer 5km\")"
      ],
      "execution_count": 57,
      "outputs": [
        {
          "output_type": "stream",
          "text": [
            "[0.2, 0.4, 0.6, 0.8, 1.0, 1.2, 1.4, 1.6, 1.8, 2.0, 2.2, 2.4, 2.6, 2.8, 3.0, 3.2, 3.4, 3.6, 3.8, 4.0, 4.2, 4.4, 4.6, 4.8]\n",
            "o maratonista leva 24 minutos para percorrer 5km\n"
          ],
          "name": "stdout"
        }
      ]
    },
    {
      "cell_type": "markdown",
      "metadata": {
        "id": "AMh2nKQTzlCH"
      },
      "source": [
        "O/A mesmo/a atleta no seguinte trecho acelera por $200$ metros até chegar em $15 km/h$ por $2 km$. Queremos obter uma tabela ou gráfico da distância percorrida en função do tempo e o tempo total para chegar em $7 km$, faça isto utilizando listas."
      ]
    },
    {
      "cell_type": "code",
      "metadata": {
        "id": "EdEL3xWtzl5H",
        "outputId": "02250704-a3a2-4eee-dd07-9f291a70c1ed",
        "colab": {
          "base_uri": "https://localhost:8080/",
          "height": 71
        }
      },
      "source": [
        "#segundo torricelli, v**2 = vo**2 + 2*a*s, logo a = (v**2 - vo**2)/(2*s)\n",
        "s = 0.2 #km \n",
        "v = 15 #km/h\n",
        "vo = 12 #km/h\n",
        "\n",
        "a = (v**2 - vo**2)/(2*s)\n",
        "\n",
        "#para termos o tempo que leva para acelerar: v = vo +a*t, t = (v -vo)/a\n",
        "ta = (v - vo)/a\n",
        "ta_min = ta*60\n",
        "ta_seg = ta*3600\n",
        "\n",
        "#adicionar ou não a distância que percorre acelerando? (dá mais de 7km)\n",
        "\n",
        "#agora para a nova velocidade \n",
        "\n",
        "s = 2 #km\n",
        "v = 0.25 #km/min\n",
        "t = 1\n",
        "tf = int(s/v)\n",
        "\n",
        "for t in range(t,tf):\n",
        "  s1 = 4.8 + v*t\n",
        "  distancia.append(round(s1,2))\n",
        "\n",
        "print(distancia)\n",
        "print(\"o maratonista leva\", len(distancia), \"minutos para percorrer 7km\")\n"
      ],
      "execution_count": 58,
      "outputs": [
        {
          "output_type": "stream",
          "text": [
            "[0.2, 0.4, 0.6, 0.8, 1.0, 1.2, 1.4, 1.6, 1.8, 2.0, 2.2, 2.4, 2.6, 2.8, 3.0, 3.2, 3.4, 3.6, 3.8, 4.0, 4.2, 4.4, 4.6, 4.8, 5.05, 5.3, 5.55, 5.8, 6.05, 6.3, 6.55]\n",
            "o maratonista leva 31 minutos para percorrer 7km\n"
          ],
          "name": "stdout"
        }
      ]
    },
    {
      "cell_type": "code",
      "metadata": {
        "id": "N3uXssgJHKeH",
        "outputId": "e2942f1a-a2b9-4b2d-8586-c6ee2855e5e8",
        "colab": {
          "base_uri": "https://localhost:8080/",
          "height": 744
        }
      },
      "source": [
        "from matplotlib import pyplot as plt\n",
        "import numpy as np\n",
        "#from google.colab import drive \n",
        "#drive.mount('/content/gdrive') \n",
        "\n",
        "a = np.arange(len(distancia))\n",
        "\n",
        "fig, ax = plt.subplots(figsize=(len(distancia), len(distancia)), dpi=30)\n",
        "ax.plot(a, distancia, \"k-\")\n",
        "ax.grid(which=\"both\")\n",
        "ax.set_title(\"Distância x Tempo\")\n",
        "ax.set_xlabel(\"tempo (min)\")\n",
        "ax.set_ylabel(\"distância (km)\") \n",
        "#plt.savefig(fname = \"exercicio.png\", edgecolor = \"white\", bbox_inches = \"tight\", dpi=fig.dpi) \n",
        "plt.show()\n"
      ],
      "execution_count": 56,
      "outputs": [
        {
          "output_type": "display_data",
          "data": {
            "image/png": "[encoded data removed]",
            "text/plain": [
              "<Figure size 930x930 with 1 Axes>"
            ]
          },
          "metadata": {
            "tags": [],
            "needs_background": "light"
          }
        }
      ]
    },
    {
      "cell_type": "markdown",
      "metadata": {
        "id": "yDJzH6cCH7Dd"
      },
      "source": [
        "Considere um péndulo simples num plano. O comprimento da linha é $1$ metro, a massa é $0,2 kg$ e a aceleração de gravidade $9,8 m/s^2$. Faça um gráfico ou crie uma tabela para a posição em coordenadas cartesianas em função do tempo, utilizando listas."
      ]
    },
    {
      "cell_type": "code",
      "metadata": {
        "id": "SY7BWshRH9Iq"
      },
      "source": [
        "\n"
      ],
      "execution_count": null,
      "outputs": []
    }
  ]
}