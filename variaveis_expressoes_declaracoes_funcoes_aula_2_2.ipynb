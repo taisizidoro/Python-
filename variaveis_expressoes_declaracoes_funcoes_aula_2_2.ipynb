{
  "nbformat": 4,
  "nbformat_minor": 0,
  "metadata": {
    "colab": {
      "name": "variaveis_expressoes_declaracoes_funcoes_aula_2_2.ipynb",
      "provenance": [],
      "authorship_tag": "ABX9TyPkxuaePkdQvUlfzyiYORaz",
      "include_colab_link": true
    },
    "kernelspec": {
      "name": "python3",
      "display_name": "Python 3"
    }
  },
  "cells": [
    {
      "cell_type": "markdown",
      "metadata": {
        "id": "view-in-github",
        "colab_type": "text"
      },
      "source": [
        "<a href=\"https://colab.research.google.com/github/taisizidoro/Python-/blob/master/variaveis_expressoes_declaracoes_funcoes_aula_2_2.ipynb\" target=\"_parent\"><img src=\"https://colab.research.google.com/assets/colab-badge.svg\" alt=\"Open In Colab\"/></a>"
      ]
    },
    {
      "cell_type": "markdown",
      "metadata": {
        "id": "wistK3QdUZJx",
        "colab_type": "text"
      },
      "source": [
        "O volume de uma esfera de raio r é $\\frac{4}{3} \\pi r^{3}$\n",
        "\n",
        "Qual é o volume de uma esfera de raio 5?"
      ]
    },
    {
      "cell_type": "code",
      "metadata": {
        "id": "grC0q7kUUJDQ",
        "colab_type": "code",
        "colab": {
          "base_uri": "https://localhost:8080/",
          "height": 34
        },
        "outputId": "117ac88f-d96f-48dd-b722-ebfda3217f07"
      },
      "source": [
        "from numpy import pi\n",
        "r = 5\n",
        "volume = (4/3)*(r**3)*pi\n",
        "print(\"volume = \", round(volume,1))"
      ],
      "execution_count": 12,
      "outputs": [
        {
          "output_type": "stream",
          "text": [
            "volume =  523.6\n"
          ],
          "name": "stdout"
        }
      ]
    }
  ]
}