{
  "nbformat": 4,
  "nbformat_minor": 0,
  "metadata": {
    "colab": {
      "name": "listas_aula_9.ipynb",
      "provenance": [],
      "authorship_tag": "ABX9TyOZUYShcOjYvbRxBrBCTLVU",
      "include_colab_link": true
    },
    "kernelspec": {
      "name": "python3",
      "display_name": "Python 3"
    }
  },
  "cells": [
    {
      "cell_type": "markdown",
      "metadata": {
        "id": "view-in-github",
        "colab_type": "text"
      },
      "source": [
        "<a href=\"https://colab.research.google.com/github/taisizidoro/Python-/blob/master/listas_aula_9.ipynb\" target=\"_parent\"><img src=\"https://colab.research.google.com/assets/colab-badge.svg\" alt=\"Open In Colab\"/></a>"
      ]
    },
    {
      "cell_type": "markdown",
      "metadata": {
        "id": "bPh-YflgnSq_"
      },
      "source": [
        "Considere a função abaixo. Esse tipo de função é considerada uma função modificadora pois modifica o objeto que é passado como argumento. 1) Modifique a função para retornar uma nova lista, sem modificar a lista usada como parâmetro. Esse tipo de função é chamado de função pura. 2) Modifique a documentação de ajuda da nova função, de tal forma que quando se chame a função help da nova função, se obtenha a descrição adequada."
      ]
    },
    {
      "cell_type": "code",
      "metadata": {
        "id": "E_tz1VFqoCfF",
        "outputId": "f47691c0-66d5-4acc-cc0c-44d74447b605",
        "colab": {
          "base_uri": "https://localhost:8080/"
        }
      },
      "source": [
        "def dobrar_elementos(uma_lista):\n",
        "    \"\"\" Reescreve os elementos de uma_lista com o dobro de seus valores originais.\n",
        "    \"\"\"\n",
        "    uma_lista_2 = uma_lista[:]\n",
        "    for (i, valor) in enumerate(uma_lista):\n",
        "        novo_elem = 2 * valor\n",
        "        uma_lista_2[i] = novo_elem\n",
        "\n",
        "    return uma_lista_2\n",
        "\n",
        "minha_lista = [2, 4, 6]\n",
        "print(minha_lista)\n",
        "dobro = dobrar_elementos(minha_lista)\n",
        "print(dobro)\n"
      ],
      "execution_count": null,
      "outputs": [
        {
          "output_type": "stream",
          "text": [
            "[2, 4, 6]\n",
            "[4, 8, 12]\n"
          ],
          "name": "stdout"
        }
      ]
    },
    {
      "cell_type": "code",
      "metadata": {
        "id": "8h4FcVFL66J-",
        "outputId": "bc514416-1acb-467b-e1cc-b254f937baf7",
        "colab": {
          "base_uri": "https://localhost:8080/"
        }
      },
      "source": [
        "help(dobrar_elementos)"
      ],
      "execution_count": null,
      "outputs": [
        {
          "output_type": "stream",
          "text": [
            "Help on function dobrar_elementos in module __main__:\n",
            "\n",
            "dobrar_elementos(uma_lista)\n",
            "    Reescreve os elementos de uma_lista com o dobro de seus valores originais.\n",
            "\n"
          ],
          "name": "stdout"
        }
      ]
    },
    {
      "cell_type": "markdown",
      "metadata": {
        "id": "_hq3aB5TTpjt"
      },
      "source": [
        "1. Utilizando um arquivo de dados com várias colunas (por exemplo, o arquivo dados_alunos.txt), faça um histograma com os dados de cada uma das colunas. Dica: utilize o matplotlib para fazer os histogramas."
      ]
    },
    {
      "cell_type": "code",
      "metadata": {
        "id": "x-qBDX-nTqUu",
        "outputId": "714d9a0e-be17-47cb-cf16-b88864a8fa5a",
        "colab": {
          "base_uri": "https://localhost:8080/"
        }
      },
      "source": [
        "%%writefile dados_alunos_cabecalho.csv\n",
        "I(a),A(m),M(Kg)\n",
        "18,\t1.68,\t80\n",
        "18,\t1.94,\t60\n",
        "18,\t1.70,\t80\n",
        "18,\t1.76,\t66\n",
        "19,\t1.73,\t87.5\n",
        "18,\t1.66,\t58\n",
        "21,\t1.80,\t92\n",
        "18,\t1.60,\t57\n",
        "18,\t1.67,\t64\n",
        "18,\t1.73,\t57\n",
        "17,\t1.73,\t75\n",
        "18,\t1.61,\t59\n",
        "18,\t1.69,\t90\n",
        "17,\t1.71,\t67\n",
        "19,\t1.78,\t60\n",
        "22,\t1.68,\t72\n",
        "18,\t1.70,\t73\n",
        "19,\t1.64,\t86\n",
        "18,\t1.64,\t75\n",
        "20,\t1.80,\t95\n",
        "17,\t1.75,\t60\n",
        "18,\t1.78,\t75\n",
        "18,\t1.75,\t65\n",
        "17,\t1.69,\t60\n",
        "19,\t1.78,\t73\n",
        "18,\t1.70,\t63\n",
        "34,\t1.75,\t78\n",
        "18,\t1.64,\t64\n",
        "19,\t1.75,\t50\n",
        "18,\t1.67,\t61\n",
        "18,\t1.70,\t70\n",
        "20,\t1.80,\t60\n",
        "18,\t1.63,\t57\n",
        "23,\t1.89,\t110\n",
        "18,\t1.71,\t71\n",
        "18,\t1.65,\t65\n",
        "17,\t1.72,\t67\n",
        "19,\t1.65,\t58\n",
        "18,\t1.75,\t90\n",
        "18,\t1.70,\t64\n",
        "19,\t1.81,\t70\n",
        "19,\t1.65,\t43\n",
        "28,\t1.52,\t50\n",
        "19,\t1.79,\t78\n",
        "26,\t1.79,\t82\n",
        "19,\t1.75,\t61\n",
        "19,\t1.80,\t70\n",
        "20,\t1.75,\t70\n",
        "20,\t1.73,\t70\n",
        "19,\t1.70,\t50\n",
        "22,\t1.78,\t72\n",
        "19,\t1.77,\t55\n",
        "18,\t1.53,\t58\n",
        "28,\t1.54,\t50\n",
        "20,\t1.83,\t70\n",
        "44,\t1.85,\t90\n",
        "18,\t1.60,\t51"
      ],
      "execution_count": 4,
      "outputs": [
        {
          "output_type": "stream",
          "text": [
            "Writing dados_alunos_cabecalho.csv\n"
          ],
          "name": "stdout"
        }
      ]
    },
    {
      "cell_type": "code",
      "metadata": {
        "id": "FW6z7Iw5UcKs",
        "outputId": "fc7652bf-16b5-44c3-889b-7c9b10df8039",
        "colab": {
          "base_uri": "https://localhost:8080/"
        }
      },
      "source": [
        "%cat dados_alunos_cabecalho.csv"
      ],
      "execution_count": 5,
      "outputs": [
        {
          "output_type": "stream",
          "text": [
            "I(a),A(m),M(Kg)\n",
            "18,\t1.68,\t80\n",
            "18,\t1.94,\t60\n",
            "18,\t1.70,\t80\n",
            "18,\t1.76,\t66\n",
            "19,\t1.73,\t87.5\n",
            "18,\t1.66,\t58\n",
            "21,\t1.80,\t92\n",
            "18,\t1.60,\t57\n",
            "18,\t1.67,\t64\n",
            "18,\t1.73,\t57\n",
            "17,\t1.73,\t75\n",
            "18,\t1.61,\t59\n",
            "18,\t1.69,\t90\n",
            "17,\t1.71,\t67\n",
            "19,\t1.78,\t60\n",
            "22,\t1.68,\t72\n",
            "18,\t1.70,\t73\n",
            "19,\t1.64,\t86\n",
            "18,\t1.64,\t75\n",
            "20,\t1.80,\t95\n",
            "17,\t1.75,\t60\n",
            "18,\t1.78,\t75\n",
            "18,\t1.75,\t65\n",
            "17,\t1.69,\t60\n",
            "19,\t1.78,\t73\n",
            "18,\t1.70,\t63\n",
            "34,\t1.75,\t78\n",
            "18,\t1.64,\t64\n",
            "19,\t1.75,\t50\n",
            "18,\t1.67,\t61\n",
            "18,\t1.70,\t70\n",
            "20,\t1.80,\t60\n",
            "18,\t1.63,\t57\n",
            "23,\t1.89,\t110\n",
            "18,\t1.71,\t71\n",
            "18,\t1.65,\t65\n",
            "17,\t1.72,\t67\n",
            "19,\t1.65,\t58\n",
            "18,\t1.75,\t90\n",
            "18,\t1.70,\t64\n",
            "19,\t1.81,\t70\n",
            "19,\t1.65,\t43\n",
            "28,\t1.52,\t50\n",
            "19,\t1.79,\t78\n",
            "26,\t1.79,\t82\n",
            "19,\t1.75,\t61\n",
            "19,\t1.80,\t70\n",
            "20,\t1.75,\t70\n",
            "20,\t1.73,\t70\n",
            "19,\t1.70,\t50\n",
            "22,\t1.78,\t72\n",
            "19,\t1.77,\t55\n",
            "18,\t1.53,\t58\n",
            "28,\t1.54,\t50\n",
            "20,\t1.83,\t70\n",
            "44,\t1.85,\t90\n",
            "18,\t1.60,\t51"
          ],
          "name": "stdout"
        }
      ]
    },
    {
      "cell_type": "code",
      "metadata": {
        "id": "Tw2Kl-AIv0Bt",
        "outputId": "f6c6d055-3847-4025-fc45-4f5b23b86493",
        "colab": {
          "base_uri": "https://localhost:8080/"
        }
      },
      "source": [
        "import pandas as pd\n",
        "\n",
        "lista = []\n",
        "df = pd.read_csv(\"dados_alunos_cabecalho.csv\")\n",
        "\n",
        "for column in df.columns: \n",
        "    li = df[column].tolist() \n",
        "    lista.append(li) \n",
        "\n",
        "lista[0].sort()\n",
        "lista[1].sort()\n",
        "lista[2].sort()\n",
        "\n",
        "print(lista)\n",
        "      "
      ],
      "execution_count": null,
      "outputs": [
        {
          "output_type": "stream",
          "text": [
            "[[17, 17, 17, 17, 17, 18, 18, 18, 18, 18, 18, 18, 18, 18, 18, 18, 18, 18, 18, 18, 18, 18, 18, 18, 18, 18, 18, 18, 18, 18, 19, 19, 19, 19, 19, 19, 19, 19, 19, 19, 19, 19, 19, 20, 20, 20, 20, 20, 21, 22, 22, 23, 26, 28, 28, 34, 44], [1.52, 1.53, 1.54, 1.6, 1.6, 1.61, 1.63, 1.64, 1.64, 1.64, 1.65, 1.65, 1.65, 1.66, 1.67, 1.67, 1.68, 1.68, 1.69, 1.69, 1.7, 1.7, 1.7, 1.7, 1.7, 1.7, 1.71, 1.71, 1.72, 1.73, 1.73, 1.73, 1.73, 1.75, 1.75, 1.75, 1.75, 1.75, 1.75, 1.75, 1.76, 1.77, 1.78, 1.78, 1.78, 1.78, 1.79, 1.79, 1.8, 1.8, 1.8, 1.8, 1.81, 1.83, 1.85, 1.89, 1.94], [43.0, 50.0, 50.0, 50.0, 50.0, 51.0, 55.0, 57.0, 57.0, 57.0, 58.0, 58.0, 58.0, 59.0, 60.0, 60.0, 60.0, 60.0, 60.0, 61.0, 61.0, 63.0, 64.0, 64.0, 64.0, 65.0, 65.0, 66.0, 67.0, 67.0, 70.0, 70.0, 70.0, 70.0, 70.0, 70.0, 71.0, 72.0, 72.0, 73.0, 73.0, 75.0, 75.0, 75.0, 78.0, 78.0, 80.0, 80.0, 82.0, 86.0, 87.5, 90.0, 90.0, 90.0, 92.0, 95.0, 110.0]]\n"
          ],
          "name": "stdout"
        }
      ]
    },
    {
      "cell_type": "code",
      "metadata": {
        "id": "qld_cetHY1QU",
        "outputId": "311663a8-7ac4-4f86-b8e8-4cc877c8b0be",
        "colab": {
          "base_uri": "https://localhost:8080/",
          "height": 297
        }
      },
      "source": [
        "import matplotlib.pyplot as plt\n",
        "import numpy as np\n",
        "\n",
        "fig, axs = plt.subplots(1, 3, sharey=True, tight_layout=True)\n",
        "axs[0].hist(lista[0],bins= 11)\n",
        "axs[1].hist(lista[1],bins= 27)\n",
        "axs[2].hist(lista[2],bins= 28)\n",
        "plt.show()"
      ],
      "execution_count": null,
      "outputs": [
        {
          "output_type": "display_data",
          "data": {
            "image/png": "[encoded data removed]",
            "text/plain": [
              "<Figure size 432x288 with 3 Axes>"
            ]
          },
          "metadata": {
            "tags": [],
            "needs_background": "light"
          }
        }
      ]
    },
    {
      "cell_type": "markdown",
      "metadata": {
        "id": "yJtD5oSjfVAQ"
      },
      "source": [
        "2. Estude os métodos do módulo os e faça um script que liste todos os arquivos de um dado diretório assim como de seus subdiretórios. Dica: use o método walk."
      ]
    },
    {
      "cell_type": "code",
      "metadata": {
        "id": "Vb2KYLJWfVyi",
        "outputId": "14f94ec8-c249-4efd-80b0-fc693e989848",
        "colab": {
          "base_uri": "https://localhost:8080/"
        }
      },
      "source": [
        "import os\n",
        "for root, dirs, files in os.walk(\".\", topdown=False):\n",
        "   for name in files:\n",
        "      print(os.path.join(root, name))\n",
        "   for name in dirs:\n",
        "      print(os.path.join(root, name))"
      ],
      "execution_count": null,
      "outputs": [
        {
          "output_type": "stream",
          "text": [
            "./.config/logs/2020.10.28/16.29.53.609256.log\n",
            "./.config/logs/2020.10.28/16.30.09.212553.log\n",
            "./.config/logs/2020.10.28/16.29.12.726433.log\n",
            "./.config/logs/2020.10.28/16.30.09.899674.log\n",
            "./.config/logs/2020.10.28/16.29.47.988493.log\n",
            "./.config/logs/2020.10.28/16.29.33.370106.log\n",
            "./.config/logs/2020.10.28\n",
            "./.config/configurations/config_default\n",
            "./.config/.last_survey_prompt.yaml\n",
            "./.config/.last_opt_in_prompt.yaml\n",
            "./.config/.last_update_check.json\n",
            "./.config/gce\n",
            "./.config/active_config\n",
            "./.config/config_sentinel\n",
            "./.config/.metricsUUID\n",
            "./.config/logs\n",
            "./.config/configurations\n",
            "./sample_data/anscombe.json\n",
            "./sample_data/README.md\n",
            "./sample_data/california_housing_train.csv\n",
            "./sample_data/mnist_train_small.csv\n",
            "./sample_data/california_housing_test.csv\n",
            "./sample_data/mnist_test.csv\n",
            "./.config\n",
            "./sample_data\n"
          ],
          "name": "stdout"
        }
      ]
    },
    {
      "cell_type": "markdown",
      "metadata": {
        "id": "N2wh-5aTj-BG"
      },
      "source": [
        "3. Reescreva o script dessa aula, lcount.py na forma de uma módulo. Qual o valor da variável __name__ quando o módulo é importado?"
      ]
    },
    {
      "cell_type": "code",
      "metadata": {
        "id": "T9U8Ayspj-8V",
        "outputId": "69d0682b-1ddb-4703-d0c5-a1d266660d09",
        "colab": {
          "base_uri": "https://localhost:8080/"
        }
      },
      "source": [
        "%%writefile lcount.py\n",
        "\n",
        "def linecount(filename):\n",
        "    count = 0\n",
        "    for line in open(filename):\n",
        "        count += 1\n",
        "    return count\n",
        "\n"
      ],
      "execution_count": null,
      "outputs": [
        {
          "output_type": "stream",
          "text": [
            "Writing lcount.py\n"
          ],
          "name": "stdout"
        }
      ]
    },
    {
      "cell_type": "code",
      "metadata": {
        "id": "oMsvHsPCllir",
        "outputId": "f412af15-db9d-49d2-a6ef-4e59703ebcdb",
        "colab": {
          "base_uri": "https://localhost:8080/"
        }
      },
      "source": [
        "import lcount as l\n",
        "\n",
        "print(l.linecount(\"dados_alunos_cabecalho.csv\"))"
      ],
      "execution_count": null,
      "outputs": [
        {
          "output_type": "stream",
          "text": [
            "58\n"
          ],
          "name": "stdout"
        }
      ]
    },
    {
      "cell_type": "markdown",
      "metadata": {
        "id": "NJPoBrjImLNO"
      },
      "source": [
        "4. Escreva uma função chamada ler_arquivos que tome como argumento um nome de arquivo, leia um arquivo com um número qualquer de colunas e retorne um dicionário que tenha como keys os números das colunas e como valor uma lista dos valores associados a cada coluna do arquivo. Use o arquivo dados_alunos.txt. Caso o arquivo tiver o cabeçalho das colunas, p.ex. dados_alunos_cabecalho.txt, a key deve ser a palavra do cabeçalho.\n",
        "\n",
        "Caso não queria usar dicionários, você pode pensar em uma estrutura de dados alternativa para armazenar os dados do arquivo, como por exemplo uma ou mais listas.\n",
        "Também pode usar funções já existentes nos módulos de Python numpy ou pandas para ler arquivos de texto e armazenar nas estruturas desses módulos (DataFrames ou arrays).\n",
        "Adapte a função acima para, se ocorrer um erro ao abrir, ler ou fechar arquivos, o programa capturar a exceção, imprimir uma mensagem de erro e sair."
      ]
    },
    {
      "cell_type": "code",
      "metadata": {
        "id": "SZdjb3XXmMSy",
        "outputId": "1ff04126-6ddb-444d-cf91-c136804f26d8",
        "colab": {
          "base_uri": "https://localhost:8080/"
        }
      },
      "source": [
        "import pandas as pd\n",
        "\n",
        "lista = []\n",
        "df = pd.read_csv(\"dados_alunos_cabecalho.csv\")\n",
        "\n",
        "for column in df.columns: \n",
        "    li = df[column].tolist() \n",
        "    lista.append(li) \n",
        "\n",
        "lista[0].sort()\n",
        "lista[1].sort()\n",
        "lista[2].sort()\n",
        "\n",
        "Idade = lista[0]\n",
        "Altura = lista[1]\n",
        "Massa = lista[2]\n",
        "\n",
        "print(Idade)\n",
        "print(Altura)\n",
        "print(Massa)"
      ],
      "execution_count": null,
      "outputs": [
        {
          "output_type": "stream",
          "text": [
            "[17, 17, 17, 17, 17, 18, 18, 18, 18, 18, 18, 18, 18, 18, 18, 18, 18, 18, 18, 18, 18, 18, 18, 18, 18, 18, 18, 18, 18, 18, 19, 19, 19, 19, 19, 19, 19, 19, 19, 19, 19, 19, 19, 20, 20, 20, 20, 20, 21, 22, 22, 23, 26, 28, 28, 34, 44]\n",
            "[1.52, 1.53, 1.54, 1.6, 1.6, 1.61, 1.63, 1.64, 1.64, 1.64, 1.65, 1.65, 1.65, 1.66, 1.67, 1.67, 1.68, 1.68, 1.69, 1.69, 1.7, 1.7, 1.7, 1.7, 1.7, 1.7, 1.71, 1.71, 1.72, 1.73, 1.73, 1.73, 1.73, 1.75, 1.75, 1.75, 1.75, 1.75, 1.75, 1.75, 1.76, 1.77, 1.78, 1.78, 1.78, 1.78, 1.79, 1.79, 1.8, 1.8, 1.8, 1.8, 1.81, 1.83, 1.85, 1.89, 1.94]\n",
            "[43.0, 50.0, 50.0, 50.0, 50.0, 51.0, 55.0, 57.0, 57.0, 57.0, 58.0, 58.0, 58.0, 59.0, 60.0, 60.0, 60.0, 60.0, 60.0, 61.0, 61.0, 63.0, 64.0, 64.0, 64.0, 65.0, 65.0, 66.0, 67.0, 67.0, 70.0, 70.0, 70.0, 70.0, 70.0, 70.0, 71.0, 72.0, 72.0, 73.0, 73.0, 75.0, 75.0, 75.0, 78.0, 78.0, 80.0, 80.0, 82.0, 86.0, 87.5, 90.0, 90.0, 90.0, 92.0, 95.0, 110.0]\n"
          ],
          "name": "stdout"
        }
      ]
    },
    {
      "cell_type": "code",
      "metadata": {
        "id": "fw944GT6875W",
        "outputId": "f33a18e2-e1ca-423b-8fb3-fc1a9e376c17",
        "colab": {
          "base_uri": "https://localhost:8080/"
        }
      },
      "source": [
        "import pandas as pd\n",
        "\n",
        "lista = []\n",
        "\n",
        "try:\n",
        "  df = open(\"dados_alunos_cabecalho.csv\")\n",
        "  df = pd.read_csv(\"dados_alunos_cabecalho.csv\")\n",
        "  close()\n",
        "except:\n",
        "  print(\"Algo de errrado com esse arquivo, por favor, tente novamente.\")  \n",
        "\n",
        "for column in df.columns: \n",
        "    li = df[column].tolist() \n",
        "    lista.append(li) \n",
        "\n",
        "lista[0].sort()\n",
        "lista[1].sort()\n",
        "lista[2].sort()\n",
        "\n",
        "Idade = lista[0]\n",
        "Altura = lista[1]\n",
        "Massa = lista[2]\n",
        "\n",
        "print(Idade)\n",
        "print(Altura)\n",
        "print(Massa)"
      ],
      "execution_count": null,
      "outputs": [
        {
          "output_type": "stream",
          "text": [
            "Algo de errrado com esse arquivo, por favor, tente novamente.\n",
            "[17, 17, 17, 17, 17, 18, 18, 18, 18, 18, 18, 18, 18, 18, 18, 18, 18, 18, 18, 18, 18, 18, 18, 18, 18, 18, 18, 18, 18, 18, 19, 19, 19, 19, 19, 19, 19, 19, 19, 19, 19, 19, 19, 20, 20, 20, 20, 20, 21, 22, 22, 23, 26, 28, 28, 34, 44]\n",
            "[1.52, 1.53, 1.54, 1.6, 1.6, 1.61, 1.63, 1.64, 1.64, 1.64, 1.65, 1.65, 1.65, 1.66, 1.67, 1.67, 1.68, 1.68, 1.69, 1.69, 1.7, 1.7, 1.7, 1.7, 1.7, 1.7, 1.71, 1.71, 1.72, 1.73, 1.73, 1.73, 1.73, 1.75, 1.75, 1.75, 1.75, 1.75, 1.75, 1.75, 1.76, 1.77, 1.78, 1.78, 1.78, 1.78, 1.79, 1.79, 1.8, 1.8, 1.8, 1.8, 1.81, 1.83, 1.85, 1.89, 1.94]\n",
            "[43.0, 50.0, 50.0, 50.0, 50.0, 51.0, 55.0, 57.0, 57.0, 57.0, 58.0, 58.0, 58.0, 59.0, 60.0, 60.0, 60.0, 60.0, 60.0, 61.0, 61.0, 63.0, 64.0, 64.0, 64.0, 65.0, 65.0, 66.0, 67.0, 67.0, 70.0, 70.0, 70.0, 70.0, 70.0, 70.0, 71.0, 72.0, 72.0, 73.0, 73.0, 75.0, 75.0, 75.0, 78.0, 78.0, 80.0, 80.0, 82.0, 86.0, 87.5, 90.0, 90.0, 90.0, 92.0, 95.0, 110.0]\n"
          ],
          "name": "stdout"
        }
      ]
    },
    {
      "cell_type": "markdown",
      "metadata": {
        "id": "C9DamgGUqnsL"
      },
      "source": [
        "5. Adapte o script acima para ser um módulo."
      ]
    },
    {
      "cell_type": "code",
      "metadata": {
        "id": "R49F0zaeqtDq",
        "outputId": "139749de-05b2-4b5d-bd5a-28c13260f6ee",
        "colab": {
          "base_uri": "https://localhost:8080/"
        }
      },
      "source": [
        "%%writefile dicionário.py\n",
        "\n",
        "def dic_colunas(filename):\n",
        "  \n",
        "  import pandas as pd\n",
        "\n",
        "  lista = []\n",
        "\n",
        "  try:\n",
        "    df = open('filename')\n",
        "    df = pd.read_csv('filename')\n",
        "    close()\n",
        "  except:\n",
        "    print(\"Algo de errrado com esse arquivo, por favor, tente novamente.\")  \n",
        "\n",
        "  for column in df.columns: \n",
        "      li = df[column].tolist() \n",
        "      lista.append(li) \n",
        "\n",
        "  n = len(lista)\n",
        "\n",
        "  for cont in range(0, n):\n",
        "    lista[cont].sort()\n",
        "    print(cont, \"=\",lista[cont])\n",
        "\n"
      ],
      "execution_count": 1,
      "outputs": [
        {
          "output_type": "stream",
          "text": [
            "Writing dicionário.py\n"
          ],
          "name": "stdout"
        }
      ]
    },
    {
      "cell_type": "markdown",
      "metadata": {
        "id": "hjjbcTM1CvCS"
      },
      "source": [
        "6.  Escreva um script que importe o módulo criado acima e faça um histograma para cada coluna do arquivo, com seus respectivos valores. Use o dicionário ou a estrutura de dados criada em 1)."
      ]
    },
    {
      "cell_type": "code",
      "metadata": {
        "id": "V6Ud7ZixCvsE",
        "outputId": "fdc1daca-f88e-4cfe-e1a0-6e8ddb8f39b8",
        "colab": {
          "base_uri": "https://localhost:8080/",
          "height": 367
        }
      },
      "source": [
        "import dicionário as dic\n",
        "import matplotlib.pyplot as plt\n",
        "import numpy as np\n",
        "\n",
        "dic.dic_colunas('dados_alunos_cabecalho.csv')\n",
        "\n",
        "fig, axs = plt.subplots(1, 3, sharey=True, tight_layout=True)\n",
        "\n",
        "for cont in range(0, n):\n",
        "  axs[cont].hist(lista[cont],bins= len(lista[cont]))\n",
        "  plt.show()\n",
        "\n",
        "#Não consegui eliminar o erro que está dando aqui, creio que seja no jeito que escrevi o módulo dicionário"
      ],
      "execution_count": 6,
      "outputs": [
        {
          "output_type": "stream",
          "text": [
            "Algo de errrado com esse arquivo, por favor, tente novamente.\n"
          ],
          "name": "stdout"
        },
        {
          "output_type": "error",
          "ename": "UnboundLocalError",
          "evalue": "ignored",
          "traceback": [
            "\u001b[0;31m---------------------------------------------------------------------------\u001b[0m",
            "\u001b[0;31mUnboundLocalError\u001b[0m                         Traceback (most recent call last)",
            "\u001b[0;32m<ipython-input-6-8442bb795b2b>\u001b[0m in \u001b[0;36m<module>\u001b[0;34m()\u001b[0m\n\u001b[1;32m      3\u001b[0m \u001b[0;32mimport\u001b[0m \u001b[0mnumpy\u001b[0m \u001b[0;32mas\u001b[0m \u001b[0mnp\u001b[0m\u001b[0;34m\u001b[0m\u001b[0;34m\u001b[0m\u001b[0m\n\u001b[1;32m      4\u001b[0m \u001b[0;34m\u001b[0m\u001b[0m\n\u001b[0;32m----> 5\u001b[0;31m \u001b[0mdic\u001b[0m\u001b[0;34m.\u001b[0m\u001b[0mdic_colunas\u001b[0m\u001b[0;34m(\u001b[0m\u001b[0;34m'dados_alunos_cabecalho.csv'\u001b[0m\u001b[0;34m)\u001b[0m\u001b[0;34m\u001b[0m\u001b[0;34m\u001b[0m\u001b[0m\n\u001b[0m\u001b[1;32m      6\u001b[0m \u001b[0;34m\u001b[0m\u001b[0m\n\u001b[1;32m      7\u001b[0m \u001b[0mfig\u001b[0m\u001b[0;34m,\u001b[0m \u001b[0maxs\u001b[0m \u001b[0;34m=\u001b[0m \u001b[0mplt\u001b[0m\u001b[0;34m.\u001b[0m\u001b[0msubplots\u001b[0m\u001b[0;34m(\u001b[0m\u001b[0;36m1\u001b[0m\u001b[0;34m,\u001b[0m \u001b[0;36m3\u001b[0m\u001b[0;34m,\u001b[0m \u001b[0msharey\u001b[0m\u001b[0;34m=\u001b[0m\u001b[0;32mTrue\u001b[0m\u001b[0;34m,\u001b[0m \u001b[0mtight_layout\u001b[0m\u001b[0;34m=\u001b[0m\u001b[0;32mTrue\u001b[0m\u001b[0;34m)\u001b[0m\u001b[0;34m\u001b[0m\u001b[0;34m\u001b[0m\u001b[0m\n",
            "\u001b[0;32m/content/dicionário.py\u001b[0m in \u001b[0;36mdic_colunas\u001b[0;34m(filename)\u001b[0m\n\u001b[1;32m     13\u001b[0m     \u001b[0mprint\u001b[0m\u001b[0;34m(\u001b[0m\u001b[0;34m\"Algo de errrado com esse arquivo, por favor, tente novamente.\"\u001b[0m\u001b[0;34m)\u001b[0m\u001b[0;34m\u001b[0m\u001b[0;34m\u001b[0m\u001b[0m\n\u001b[1;32m     14\u001b[0m \u001b[0;34m\u001b[0m\u001b[0m\n\u001b[0;32m---> 15\u001b[0;31m   \u001b[0;32mfor\u001b[0m \u001b[0mcolumn\u001b[0m \u001b[0;32min\u001b[0m \u001b[0mdf\u001b[0m\u001b[0;34m.\u001b[0m\u001b[0mcolumns\u001b[0m\u001b[0;34m:\u001b[0m\u001b[0;34m\u001b[0m\u001b[0;34m\u001b[0m\u001b[0m\n\u001b[0m\u001b[1;32m     16\u001b[0m       \u001b[0mli\u001b[0m \u001b[0;34m=\u001b[0m \u001b[0mdf\u001b[0m\u001b[0;34m[\u001b[0m\u001b[0mcolumn\u001b[0m\u001b[0;34m]\u001b[0m\u001b[0;34m.\u001b[0m\u001b[0mtolist\u001b[0m\u001b[0;34m(\u001b[0m\u001b[0;34m)\u001b[0m\u001b[0;34m\u001b[0m\u001b[0;34m\u001b[0m\u001b[0m\n\u001b[1;32m     17\u001b[0m       \u001b[0mlista\u001b[0m\u001b[0;34m.\u001b[0m\u001b[0mappend\u001b[0m\u001b[0;34m(\u001b[0m\u001b[0mli\u001b[0m\u001b[0;34m)\u001b[0m\u001b[0;34m\u001b[0m\u001b[0;34m\u001b[0m\u001b[0m\n",
            "\u001b[0;31mUnboundLocalError\u001b[0m: local variable 'df' referenced before assignment"
          ]
        }
      ]
    },
    {
      "cell_type": "markdown",
      "metadata": {
        "id": "x3LJj4wtGms5"
      },
      "source": [
        "7. Adicione uma função ao script criado em 6), que calcule o desvio padrão amostral, desvio padrão populacional e média de cada distribuição representada nos histogramas acima. Para tal, use o módulo statistics do Python ou outro módulo de Python (numpy, scipy)."
      ]
    },
    {
      "cell_type": "code",
      "metadata": {
        "id": "KxahAVidGnph",
        "outputId": "43136c42-e85a-40f5-dc1b-d069559cab21",
        "colab": {
          "base_uri": "https://localhost:8080/",
          "height": 367
        }
      },
      "source": [
        "import dicionário as dic\n",
        "import matplotlib.pyplot as plt\n",
        "import numpy as np\n",
        "import statistics as st\n",
        "\n",
        "dic.dic_colunas('dados_alunos_cabecalho.csv')\n",
        "\n",
        "fig, axs = plt.subplots(1, 3, sharey=True, tight_layout=True)\n",
        "\n",
        "for cont in range(0, n):\n",
        "  axs[cont].hist(lista[cont],bins= len(lista[cont]))\n",
        "  st.mean(lista[cont])\n",
        "  st.pstdev(lista[cont])\n",
        "  st.stdev(lista[cont])\n",
        "  plt.show()\n",
        "\n",
        "#Não consegui eliminar o erro que está dando aqui, creio que seja no jeito que escrevi o módulo dicionário"
      ],
      "execution_count": 7,
      "outputs": [
        {
          "output_type": "stream",
          "text": [
            "Algo de errrado com esse arquivo, por favor, tente novamente.\n"
          ],
          "name": "stdout"
        },
        {
          "output_type": "error",
          "ename": "UnboundLocalError",
          "evalue": "ignored",
          "traceback": [
            "\u001b[0;31m---------------------------------------------------------------------------\u001b[0m",
            "\u001b[0;31mUnboundLocalError\u001b[0m                         Traceback (most recent call last)",
            "\u001b[0;32m<ipython-input-7-f050e217feb0>\u001b[0m in \u001b[0;36m<module>\u001b[0;34m()\u001b[0m\n\u001b[1;32m      4\u001b[0m \u001b[0;32mimport\u001b[0m \u001b[0mstatistics\u001b[0m \u001b[0;32mas\u001b[0m \u001b[0mst\u001b[0m\u001b[0;34m\u001b[0m\u001b[0;34m\u001b[0m\u001b[0m\n\u001b[1;32m      5\u001b[0m \u001b[0;34m\u001b[0m\u001b[0m\n\u001b[0;32m----> 6\u001b[0;31m \u001b[0mdic\u001b[0m\u001b[0;34m.\u001b[0m\u001b[0mdic_colunas\u001b[0m\u001b[0;34m(\u001b[0m\u001b[0;34m'dados_alunos_cabecalho.csv'\u001b[0m\u001b[0;34m)\u001b[0m\u001b[0;34m\u001b[0m\u001b[0;34m\u001b[0m\u001b[0m\n\u001b[0m\u001b[1;32m      7\u001b[0m \u001b[0;34m\u001b[0m\u001b[0m\n\u001b[1;32m      8\u001b[0m \u001b[0mfig\u001b[0m\u001b[0;34m,\u001b[0m \u001b[0maxs\u001b[0m \u001b[0;34m=\u001b[0m \u001b[0mplt\u001b[0m\u001b[0;34m.\u001b[0m\u001b[0msubplots\u001b[0m\u001b[0;34m(\u001b[0m\u001b[0;36m1\u001b[0m\u001b[0;34m,\u001b[0m \u001b[0;36m3\u001b[0m\u001b[0;34m,\u001b[0m \u001b[0msharey\u001b[0m\u001b[0;34m=\u001b[0m\u001b[0;32mTrue\u001b[0m\u001b[0;34m,\u001b[0m \u001b[0mtight_layout\u001b[0m\u001b[0;34m=\u001b[0m\u001b[0;32mTrue\u001b[0m\u001b[0;34m)\u001b[0m\u001b[0;34m\u001b[0m\u001b[0;34m\u001b[0m\u001b[0m\n",
            "\u001b[0;32m/content/dicionário.py\u001b[0m in \u001b[0;36mdic_colunas\u001b[0;34m(filename)\u001b[0m\n\u001b[1;32m     13\u001b[0m     \u001b[0mprint\u001b[0m\u001b[0;34m(\u001b[0m\u001b[0;34m\"Algo de errrado com esse arquivo, por favor, tente novamente.\"\u001b[0m\u001b[0;34m)\u001b[0m\u001b[0;34m\u001b[0m\u001b[0;34m\u001b[0m\u001b[0m\n\u001b[1;32m     14\u001b[0m \u001b[0;34m\u001b[0m\u001b[0m\n\u001b[0;32m---> 15\u001b[0;31m   \u001b[0;32mfor\u001b[0m \u001b[0mcolumn\u001b[0m \u001b[0;32min\u001b[0m \u001b[0mdf\u001b[0m\u001b[0;34m.\u001b[0m\u001b[0mcolumns\u001b[0m\u001b[0;34m:\u001b[0m\u001b[0;34m\u001b[0m\u001b[0;34m\u001b[0m\u001b[0m\n\u001b[0m\u001b[1;32m     16\u001b[0m       \u001b[0mli\u001b[0m \u001b[0;34m=\u001b[0m \u001b[0mdf\u001b[0m\u001b[0;34m[\u001b[0m\u001b[0mcolumn\u001b[0m\u001b[0;34m]\u001b[0m\u001b[0;34m.\u001b[0m\u001b[0mtolist\u001b[0m\u001b[0;34m(\u001b[0m\u001b[0;34m)\u001b[0m\u001b[0;34m\u001b[0m\u001b[0;34m\u001b[0m\u001b[0m\n\u001b[1;32m     17\u001b[0m       \u001b[0mlista\u001b[0m\u001b[0;34m.\u001b[0m\u001b[0mappend\u001b[0m\u001b[0;34m(\u001b[0m\u001b[0mli\u001b[0m\u001b[0;34m)\u001b[0m\u001b[0;34m\u001b[0m\u001b[0;34m\u001b[0m\u001b[0m\n",
            "\u001b[0;31mUnboundLocalError\u001b[0m: local variable 'df' referenced before assignment"
          ]
        }
      ]
    }
  ]
}