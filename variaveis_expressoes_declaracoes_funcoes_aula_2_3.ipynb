{
  "nbformat": 4,
  "nbformat_minor": 0,
  "metadata": {
    "colab": {
      "name": "variaveis_expressoes_declaracoes_funcoes_aula_2_3.ipynb",
      "provenance": [],
      "authorship_tag": "ABX9TyNUwj4nRRR5uO0UGRYKQ+3y",
      "include_colab_link": true
    },
    "kernelspec": {
      "name": "python3",
      "display_name": "Python 3"
    }
  },
  "cells": [
    {
      "cell_type": "markdown",
      "metadata": {
        "id": "view-in-github",
        "colab_type": "text"
      },
      "source": [
        "<a href=\"https://colab.research.google.com/github/taisizidoro/Python-/blob/master/variaveis_expressoes_declaracoes_funcoes_aula_2_3.ipynb\" target=\"_parent\"><img src=\"https://colab.research.google.com/assets/colab-badge.svg\" alt=\"Open In Colab\"/></a>"
      ]
    },
    {
      "cell_type": "markdown",
      "metadata": {
        "id": "IVS0xctoWUci",
        "colab_type": "text"
      },
      "source": [
        "Suponha que o preço de um livro seja 24.95 reais, porém as livrarias têm desconto de 40%. Os custos de envio são de 3.00 reais para o primeiro livro e 0.75 reais para os livros adicionais. Qual é o custo total da compra de 60 livros?"
      ]
    },
    {
      "cell_type": "code",
      "metadata": {
        "id": "9KRVf-IBWHMP",
        "colab_type": "code",
        "colab": {
          "base_uri": "https://localhost:8080/",
          "height": 34
        },
        "outputId": "285591c6-e880-4661-a4bf-118c8d8eb2e7"
      },
      "source": [
        "preço = 24.95\n",
        "desconto = 40/100*preço\n",
        "quantidade = 60\n",
        "custo = 3.00+0.75*(quantidade-1)\n",
        "\n",
        "venda = (preço-desconto)*quantidade+custo\n",
        "print(\"o custo total da compra é de \",venda, \"reais.\")"
      ],
      "execution_count": 6,
      "outputs": [
        {
          "output_type": "stream",
          "text": [
            "o custo total da compra é de  945.4499999999999 reais.\n"
          ],
          "name": "stdout"
        }
      ]
    }
  ]
}