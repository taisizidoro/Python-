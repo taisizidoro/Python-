{
  "nbformat": 4,
  "nbformat_minor": 0,
  "metadata": {
    "colab": {
      "name": "o_que_e_python_aula_1_1.ipynb",
      "provenance": [],
      "authorship_tag": "ABX9TyN2VqZFHtZWR83dBx6PASD2",
      "include_colab_link": true
    },
    "kernelspec": {
      "name": "python3",
      "display_name": "Python 3"
    }
  },
  "cells": [
    {
      "cell_type": "markdown",
      "metadata": {
        "id": "view-in-github",
        "colab_type": "text"
      },
      "source": [
        "<a href=\"https://colab.research.google.com/github/taisizidoro/Python-/blob/master/o_que_e_python_aula_1_1.ipynb\" target=\"_parent\"><img src=\"https://colab.research.google.com/assets/colab-badge.svg\" alt=\"Open In Colab\"/></a>"
      ]
    },
    {
      "cell_type": "markdown",
      "metadata": {
        "id": "G8W6ma5RU5eN",
        "colab_type": "text"
      },
      "source": [
        "Exercício: Escreva na tela do modo prompt: \"mundo, mundo, vasto mundo\""
      ]
    },
    {
      "cell_type": "code",
      "metadata": {
        "id": "507LgZXDIm5i",
        "colab_type": "code",
        "colab": {
          "base_uri": "https://localhost:8080/",
          "height": 34
        },
        "outputId": "0be0ca75-560d-4704-c716-22df62948a48"
      },
      "source": [
        "print('mundo, mundo, vasto mundo')"
      ],
      "execution_count": null,
      "outputs": [
        {
          "output_type": "stream",
          "text": [
            "mundo, mundo, vasto mundo\n"
          ],
          "name": "stdout"
        }
      ]
    }
  ]
}