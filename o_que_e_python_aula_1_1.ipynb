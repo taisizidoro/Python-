{
  "nbformat": 4,
  "nbformat_minor": 0,
  "metadata": {
    "colab": {
      "name": "o_que_e_python_aula_1_1.ipynb",
      "provenance": [],
      "authorship_tag": "ABX9TyOmEFSDV5evjdwBLjtL+Zu1",
      "include_colab_link": true
    },
    "kernelspec": {
      "name": "python3",
      "display_name": "Python 3"
    }
  },
  "cells": [
    {
      "cell_type": "markdown",
      "metadata": {
        "id": "view-in-github",
        "colab_type": "text"
      },
      "source": [
        "<a href=\"https://colab.research.google.com/github/taisizidoro/Python-/blob/master/o_que_e_python_aula_1_1.ipynb\" target=\"_parent\"><img src=\"https://colab.research.google.com/assets/colab-badge.svg\" alt=\"Open In Colab\"/></a>"
      ]
    },
    {
      "cell_type": "markdown",
      "metadata": {
        "id": "G8W6ma5RU5eN"
      },
      "source": [
        "Exercício: Escreva na tela do modo prompt: \"mundo, mundo, vasto mundo\""
      ]
    },
    {
      "cell_type": "code",
      "metadata": {
        "id": "507LgZXDIm5i",
        "outputId": "0be0ca75-560d-4704-c716-22df62948a48",
        "colab": {
          "base_uri": "https://localhost:8080/",
          "height": 34
        }
      },
      "source": [
        "print('mundo, mundo, vasto mundo')"
      ],
      "execution_count": null,
      "outputs": [
        {
          "output_type": "stream",
          "text": [
            "mundo, mundo, vasto mundo\n"
          ],
          "name": "stdout"
        }
      ]
    },
    {
      "cell_type": "markdown",
      "metadata": {
        "id": "eVER7urCtGzQ"
      },
      "source": [
        "Exercício: Imprima na tela a documentação da função print."
      ]
    },
    {
      "cell_type": "code",
      "metadata": {
        "id": "nI5fwYIftI2U"
      },
      "source": [
        "help('print')"
      ],
      "execution_count": null,
      "outputs": []
    },
    {
      "cell_type": "markdown",
      "metadata": {
        "id": "khu6zma3tIc5"
      },
      "source": [
        "Exercicio: Desde sua varanda você escuta o som do primeiro fogo artificial do reveillon 3 segundos depois de ver a luz, qual a distância? (o som tem velocidade 343 m/s e a luz %$3\\times 10^8$% m/s)."
      ]
    },
    {
      "cell_type": "code",
      "metadata": {
        "id": "2Lni-YoBtUus"
      },
      "source": [
        "#Declarando as variáveis em m/s e s.\n",
        "v_som = 343\n",
        "v_luz = 3*(10**8)\n",
        "t_som = 3 \n",
        "\n",
        "d_som = v_som*t_som\n",
        "print(\"A distância entre você na varanda e o local do fogo de artifício é de\", d_som, \"metros.\")\n",
        "\n",
        "#Agora um jeito alternativo, primeiramente achando o \"tempo da luz\":\n",
        "\n",
        "#Δs_som = v_som*(t_som+t_luz)\n",
        "#Δs_luz = v_luz*t_luz\n",
        "#Δs_som = Δs_luz\n",
        "#v_som*(t_som+t_luz) = v_luz*t_luz\n",
        "#v_som*t_som + v_som*t_luz = v_luz*t_luz\n",
        "#v_som*t_som = v_luz*t_luz - v_som*t_luz\n",
        "#v_som*t_som = t_luz(v_luz-v_som)\n",
        "\n",
        "t_luz = v_som*t_som/(v_luz-v_som)\n",
        "d_luz = v_luz*t_luz\n",
        "print(\"A distância entre você na varanda e o local do fogo de artifício é de\", round(d_luz,0), \"metros.\")"
      ],
      "execution_count": null,
      "outputs": []
    },
    {
      "cell_type": "markdown",
      "metadata": {
        "id": "OGqlOK5wtZUs"
      },
      "source": [
        "Exercício: Se você fizer uma corrida de 10 quilômetros em 43 minutos e 30 segundos, qual será seu tempo médio por milha? Qual é a sua velocidade média em milhas por hora? (Dica: há 1,61 quilômetros em uma milha)."
      ]
    },
    {
      "cell_type": "code",
      "metadata": {
        "id": "lBOav5_sthKK"
      },
      "source": [
        "#transformando o tempo em segundos, a distância em milhas e calculando o tempo médio por milha:\n",
        "t = 43*60 + 30\n",
        "s = 10/1.61\n",
        "tm = t/s\n",
        "print(tm, \"segundos\")\n",
        "#Convertendo o tempo em horas e calculando a velocidade em milhas por hora:\n",
        "t = t/3600\n",
        "vm = s/t\n",
        "print(vm, \"milha/hora\")"
      ],
      "execution_count": null,
      "outputs": []
    },
    {
      "cell_type": "markdown",
      "metadata": {
        "id": "qupa1L6etrDf"
      },
      "source": [
        "Ache os zeros da função y = 3 x^2 - 4 x -10"
      ]
    },
    {
      "cell_type": "code",
      "metadata": {
        "id": "5bQC6G5QttAD"
      },
      "source": [
        "#Seja a equação quadrática da fórmula f(x) = a*(x**2) + b*x + c: \n",
        "\n",
        "a = 3\n",
        "b = -4\n",
        "c = -10\n",
        "\n",
        "delta = (b**2)-(4*a*c)\n",
        "bskr_1 = (-b+(delta**(1/2)))/(2*a)\n",
        "bskr_2 = (-b-(delta**(1/2)))/(2*a)\n",
        "\n",
        "print(\"Os zeros da função são: x =\", bskr_1, \"e x =\", bskr_2,\".\")"
      ],
      "execution_count": null,
      "outputs": []
    },
    {
      "cell_type": "markdown",
      "metadata": {
        "id": "j-W5431ntvW3"
      },
      "source": [
        "Se, ao meiodia, a sombra de um poste de 5 m de altura tem apenas 50 cm de comprimento no chão, qual o ângulo zenital do sol?"
      ]
    },
    {
      "cell_type": "code",
      "metadata": {
        "id": "vMssMKHTt2De"
      },
      "source": [
        "#Defini primeiro os catetos, em metros, e depois usei o arco tangente para achar o angulo zential em radianos.\n",
        "\n",
        "import math\n",
        "\n",
        "c_op = 0.5 \n",
        "c_adj = 5\n",
        "\n",
        "angulo = math.atan(c_op/c_adj)\n",
        "print(\"o ângulo zenital do sol é de\", round(angulo,4), \"radianos.\")"
      ],
      "execution_count": null,
      "outputs": []
    },
    {
      "cell_type": "markdown",
      "metadata": {
        "id": "DZL31zfKt3GL"
      },
      "source": [
        "Calcule o seu %$IMC = \\dfrac{M}{A^2}$% (com a massa em Kg e a altura em metros). Um valor saudável estara --em geral-- entre 20-25. Um bebê de 6 meses \"gorducho\" tem 70 cm de \"comprimento\" e 11 kg de massa, qual o IMC dele?"
      ]
    },
    {
      "cell_type": "code",
      "metadata": {
        "id": "KWcy_diQuBka"
      },
      "source": [
        "m_bb = 11\n",
        "a_bb = 0.7\n",
        "\n",
        "IMC = m_bb/(a_bb**2)\n",
        "print(\"o IMC do bebê é de\", round(IMC, 0))"
      ],
      "execution_count": null,
      "outputs": []
    },
    {
      "cell_type": "markdown",
      "metadata": {
        "id": "ZwpQbKwvuJ0j"
      },
      "source": [
        "Calcule a velocidade final de um objeto em queda livre a partir de 3 metros de altura (sem resistencia do ar). Calcule o tempo que esse objeto demora para cair."
      ]
    },
    {
      "cell_type": "code",
      "metadata": {
        "id": "mFhfNhQGuKxh"
      },
      "source": [
        "#Devemos primeiramente achar o tempo de queda, para assim acharmos a velocidade, fazemos então:\n",
        "\n",
        "h = 3\n",
        "g = 9.8\n",
        "\n",
        "#h = (g*(t**2))/2 -> t = (2h/g)**(1/2)\n",
        "\n",
        "t = (2*h/g)**(1/2)\n",
        "print(\"o tempo que o objeto demora para cair é de\", round(t,2), \"segundos.\")\n",
        "\n",
        "v = g*t \n",
        "print(\"a velocidade final do objeto é de\", round(v,2), \"m/s.\")"
      ],
      "execution_count": null,
      "outputs": []
    }
  ]
}