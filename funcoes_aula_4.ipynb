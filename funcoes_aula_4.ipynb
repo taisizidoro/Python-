{
  "nbformat": 4,
  "nbformat_minor": 0,
  "metadata": {
    "colab": {
      "name": "funcoes_aula_4.ipynb",
      "provenance": [],
      "authorship_tag": "ABX9TyPoUhKF0DTz8FUyQeWYCASz",
      "include_colab_link": true
    },
    "kernelspec": {
      "name": "python3",
      "display_name": "Python 3"
    }
  },
  "cells": [
    {
      "cell_type": "markdown",
      "metadata": {
        "id": "view-in-github",
        "colab_type": "text"
      },
      "source": [
        "<a href=\"https://colab.research.google.com/github/taisizidoro/Python-/blob/master/funcoes_aula_4.ipynb\" target=\"_parent\"><img src=\"https://colab.research.google.com/assets/colab-badge.svg\" alt=\"Open In Colab\"/></a>"
      ]
    },
    {
      "cell_type": "markdown",
      "metadata": {
        "id": "o75rZjbmDpYW"
      },
      "source": [
        "Digite este exemplo em um script e teste-o. Modifique do_twice para que sejam necessários dois argumentos, um objeto de função e um valor, e chame a função duas vezes, passando o valor como um argumento.\n",
        "\n",
        "Escreva uma versão mais geral de print_spam, chamada print_twice, que use uma string como parâmetro e imprima duas vezes. Use a versão modificada de do_twice para chamar print_twice duas vezes, passando 'spam' como um argumento. Defina uma nova função chamada do_four que recebe um objeto de função e um valor e chama a função quatro vezes, passando o valor como um parâmetro. Deve haver apenas duas declarações no corpo desta função, não quatro."
      ]
    },
    {
      "cell_type": "code",
      "metadata": {
        "id": "uiioUgXNDmZG",
        "outputId": "bc41e816-f843-4af6-c25c-90a13763a606",
        "colab": {
          "base_uri": "https://localhost:8080/",
          "height": 51
        }
      },
      "source": [
        "def do_twice(f): \n",
        "    f() \n",
        "    f()\n",
        "    \n",
        "def print_spam(): \n",
        "    print('spam') \n",
        "\n",
        "do_twice(print_spam)"
      ],
      "execution_count": 12,
      "outputs": [
        {
          "output_type": "stream",
          "text": [
            "spam\n",
            "spam\n"
          ],
          "name": "stdout"
        }
      ]
    },
    {
      "cell_type": "code",
      "metadata": {
        "id": "--YNWzJkEMWd"
      },
      "source": [
        "def do_twice(f, x): \n",
        "    f(x) \n",
        "    f(x)"
      ],
      "execution_count": 24,
      "outputs": []
    },
    {
      "cell_type": "code",
      "metadata": {
        "id": "Vt8uwsugQbII"
      },
      "source": [
        "def print_twice(arg):\n",
        "  print(arg)\n",
        "  print(arg)"
      ],
      "execution_count": 20,
      "outputs": []
    },
    {
      "cell_type": "code",
      "metadata": {
        "id": "ou_1XIjXPpIq",
        "outputId": "e6220344-bf19-4cca-cac8-f951a0c5aa94",
        "colab": {
          "base_uri": "https://localhost:8080/",
          "height": 85
        }
      },
      "source": [
        "do_twice(print_twice, \"spam\")"
      ],
      "execution_count": 25,
      "outputs": [
        {
          "output_type": "stream",
          "text": [
            "spam\n",
            "spam\n",
            "spam\n",
            "spam\n"
          ],
          "name": "stdout"
        }
      ]
    },
    {
      "cell_type": "code",
      "metadata": {
        "id": "KC02RwsVTAPW",
        "outputId": "96a00774-1f2c-438f-975b-5330ba1d96c3",
        "colab": {
          "base_uri": "https://localhost:8080/",
          "height": 85
        }
      },
      "source": [
        "def do_four(func, x):\n",
        "  print_twice(x)\n",
        "  print_twice(x)\n",
        "\n",
        "do_four(print_twice, \"spam\")"
      ],
      "execution_count": 26,
      "outputs": [
        {
          "output_type": "stream",
          "text": [
            "spam\n",
            "spam\n",
            "spam\n",
            "spam\n"
          ],
          "name": "stdout"
        }
      ]
    }
  ]
}