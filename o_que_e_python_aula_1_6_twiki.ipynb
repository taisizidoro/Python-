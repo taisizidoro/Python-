{
  "nbformat": 4,
  "nbformat_minor": 0,
  "metadata": {
    "colab": {
      "name": "o_que_e_python_aula_1_6_twiki.ipynb",
      "provenance": [],
      "authorship_tag": "ABX9TyMS8XSzggAbfDSWE9aDi7jW",
      "include_colab_link": true
    },
    "kernelspec": {
      "name": "python3",
      "display_name": "Python 3"
    }
  },
  "cells": [
    {
      "cell_type": "markdown",
      "metadata": {
        "id": "view-in-github",
        "colab_type": "text"
      },
      "source": [
        "<a href=\"https://colab.research.google.com/github/taisizidoro/Python-/blob/master/o_que_e_python_aula_1_6_twiki.ipynb\" target=\"_parent\"><img src=\"https://colab.research.google.com/assets/colab-badge.svg\" alt=\"Open In Colab\"/></a>"
      ]
    },
    {
      "cell_type": "markdown",
      "metadata": {
        "id": "MgRnt1pquDIq",
        "colab_type": "text"
      },
      "source": [
        "Calcule a velocidade final de um objeto em queda livre a partir de 3 metros de altura (sem resistencia do ar). Calcule o tempo que esse objeto demora para cair."
      ]
    },
    {
      "cell_type": "code",
      "metadata": {
        "id": "ggWzGg75t5Cg",
        "colab_type": "code",
        "colab": {
          "base_uri": "https://localhost:8080/",
          "height": 51
        },
        "outputId": "2ad1407b-d418-4481-d2ec-c4255977086d"
      },
      "source": [
        "#Devemos primeiramente achar o tempo de queda, para assim acharmos a velocidade, fazemos então:\n",
        "\n",
        "h = 3\n",
        "g = 9.8\n",
        "\n",
        "#h = (g*(t**2))/2 -> t = (2h/g)**(1/2)\n",
        "\n",
        "t = (2*h/g)**(1/2)\n",
        "print(\"o tempo que o objeto demora para cair é de\", round(t,2), \"segundos.\")\n",
        "\n",
        "v = g*t \n",
        "print(\"a velocidade final do objeto é de\", round(v,2), \"m/s.\")"
      ],
      "execution_count": 3,
      "outputs": [
        {
          "output_type": "stream",
          "text": [
            "o tempo que o objeto demora para cair é de 0.78 segundos.\n",
            "a velocidade final do objeto é de 7.67 m/s.\n"
          ],
          "name": "stdout"
        }
      ]
    }
  ]
}