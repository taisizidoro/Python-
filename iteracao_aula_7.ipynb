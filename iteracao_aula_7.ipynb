{
  "nbformat": 4,
  "nbformat_minor": 0,
  "metadata": {
    "colab": {
      "name": "iteracao_aula_7.ipynb",
      "provenance": [],
      "authorship_tag": "ABX9TyP7Y9u505oQDlVehSZjqflv",
      "include_colab_link": true
    },
    "kernelspec": {
      "name": "python3",
      "display_name": "Python 3"
    }
  },
  "cells": [
    {
      "cell_type": "markdown",
      "metadata": {
        "id": "view-in-github",
        "colab_type": "text"
      },
      "source": [
        "<a href=\"https://colab.research.google.com/github/taisizidoro/Python-/blob/master/iteracao_aula_7.ipynb\" target=\"_parent\"><img src=\"https://colab.research.google.com/assets/colab-badge.svg\" alt=\"Open In Colab\"/></a>"
      ]
    },
    {
      "cell_type": "markdown",
      "metadata": {
        "id": "dsvT-b_gveNL"
      },
      "source": [
        "1) A **conjectura de Collatz**, diz que \"Todos os inteiros positivos irão eventualmente convergir para 1 usando as regras do Collatz\". Faça um programa que verifique a conjectura de Collatz para alguns valores. As regras de Collatz são: Dado um número ***n***: \n",
        "   * se ***n*** for par, divida-o por ***2***;\n",
        "   * Se ***n*** for ímpar, atualize-o para 3*n + 1"
      ]
    },
    {
      "cell_type": "code",
      "metadata": {
        "colab": {
          "base_uri": "https://localhost:8080/"
        },
        "id": "JEFE_y89iyNE",
        "outputId": "b6beec44-bb5a-4955-f71b-58449ebdf8bb"
      },
      "source": [
        "def collatz(numero, show_print = True):\n",
        "    loops = 0\n",
        "    numero_original = numero\n",
        "    while numero != 1:\n",
        "        if (numero%2 == 0):\n",
        "            numero = numero/2\n",
        "        else:\n",
        "            numero = 3*numero + 1\n",
        "        loops += 1\n",
        "    if (show_print):\n",
        "        print(\"Para\",numero_original,\",\",loops,\"loop(s) foi/foram necessário(s) para chegar a 1.\")\n",
        "    #return loops\n",
        "\n",
        "collatz(20)"
      ],
      "execution_count": 5,
      "outputs": [
        {
          "output_type": "stream",
          "text": [
            "Para 20 , 7 loop(s) foi/foram necessário(s) para chegar a 1.\n"
          ],
          "name": "stdout"
        }
      ]
    },
    {
      "cell_type": "markdown",
      "metadata": {
        "id": "0wWBKbgKixrm"
      },
      "source": [
        "2) Modifique a função counter para contar o número de vezes que os dígitos 0 e 5 aparecem em um dado número n. Por exemplo, n = 10568, tem 2 dígitos 0 ou 5. \n",
        "\n"
      ]
    },
    {
      "cell_type": "code",
      "metadata": {
        "colab": {
          "base_uri": "https://localhost:8080/"
        },
        "id": "iOPFFp3ji2Kq",
        "outputId": "eee4fc15-7b3a-4f86-977e-4b6d6c68e1bc"
      },
      "source": [
        "def quantidade(numero, digitos, show_print = True):\n",
        "    \n",
        "    if not isinstance(digitos, list):\n",
        "        digitos = [digitos]\n",
        "  \n",
        "    for digito in digitos:\n",
        "        if not isinstance(digito, int):\n",
        "            print(\"ERRO: os dígitos devem ser números inteiros\")\n",
        "            return False\n",
        "        if digito > 10:\n",
        "            print(\"ERRO: os dígitos não podem ser >9\")\n",
        "            return False\n",
        "        if digito < 0:\n",
        "            print(\"ERRO: os dígitos não podem ser <0\")\n",
        "            return False\n",
        "    \n",
        "    numero = str(numero)\n",
        "    for i in range(len(digitos)):\n",
        "        digitos[i] = str(digitos[i])\n",
        "    \n",
        "    contador = 0\n",
        "    for digito in digitos:\n",
        "        for n in numero:\n",
        "            if (n == digito):\n",
        "                contador += 1\n",
        "    if (show_print):\n",
        "        print(\"O número\", numero,\"contém\", contador, \"digitos 0 ou 5.\")\n",
        "    #return contador\n",
        "\n",
        "quantidade(153450, [0,5])"
      ],
      "execution_count": 9,
      "outputs": [
        {
          "output_type": "stream",
          "text": [
            "O número 153450 contém 3 digitos 0 ou 5.\n"
          ],
          "name": "stdout"
        }
      ]
    },
    {
      "cell_type": "markdown",
      "metadata": {
        "id": "fMEnPM7Tj8YX"
      },
      "source": [
        "3) Encapsule e generalize a seguinte declaração:"
      ]
    },
    {
      "cell_type": "code",
      "metadata": {
        "colab": {
          "base_uri": "https://localhost:8080/"
        },
        "id": "EpZ6Pv1Tj-5Y",
        "outputId": "795161ab-15f2-4840-8cd8-ea7c51e3b275"
      },
      "source": [
        "for i in [12, 16, 17, 24, 29]:\n",
        "    if i % 2 == 1:  # If the number is odd\n",
        "       break        #  ... immediately exit the loop\n",
        "    print(i)\n",
        "print(\"done\")"
      ],
      "execution_count": 10,
      "outputs": [
        {
          "output_type": "stream",
          "text": [
            "12\n",
            "16\n",
            "done\n"
          ],
          "name": "stdout"
        }
      ]
    },
    {
      "cell_type": "code",
      "metadata": {
        "colab": {
          "base_uri": "https://localhost:8080/"
        },
        "id": "CuiPTNbDkFT8",
        "outputId": "41863f08-3328-4724-d576-e529fe3d8b55"
      },
      "source": [
        "def odd(numbers):\n",
        "    for number in numbers:\n",
        "        if number % 2 == 1:\n",
        "            break\n",
        "        print(\"Number\", number,\"is odd.\")\n",
        "    print(\"Done\")\n",
        "\n",
        "odd([12, 16, 17, 24, 29])"
      ],
      "execution_count": 12,
      "outputs": [
        {
          "output_type": "stream",
          "text": [
            "Number 12 is odd.\n",
            "Number 16 is odd.\n",
            "Done\n"
          ],
          "name": "stdout"
        }
      ]
    },
    {
      "cell_type": "markdown",
      "metadata": {
        "id": "xFtNA43Sopa0"
      },
      "source": [
        "4) O método de Newton para raiz quadrada. Suponha que você queira calcular a raiz quadrada de ***n***. Se você começar com quase qualquer aproximação, poderá calcular uma aproximação melhor (mais próxima da resposta real) com a seguinte fórmula: melhor = (approx + n/approx)/2\n",
        "\n",
        "\n",
        "Usando um loop e repetindo esta fórmula até que a melhor aproximação se aproxime o suficiente da anterior (podemos considerar uma diferença de 0,001), podemos escrever uma função para calcular a raiz quadrada.\n",
        "\n",
        "\n",
        "Esse é um exemplo de repetição **indefinida**. Com qual tipo de loop você deve escrever o seu programa?"
      ]
    },
    {
      "cell_type": "code",
      "metadata": {
        "colab": {
          "base_uri": "https://localhost:8080/"
        },
        "id": "CFzs0KcVkVPr",
        "outputId": "3d67db8a-4474-429b-c5d4-410407a18e2c"
      },
      "source": [
        "import math\n",
        "def raiz_quadrada(n, aprox = 1):\n",
        "    loops = 0\n",
        "    while abs(math.sqrt(n) - aprox) > 0.001:\n",
        "        aprox = (aprox + n/aprox)/2\n",
        "        loops += 1\n",
        "    print(\"Em\", loops, \"loops, a raiz quadrada de\", n, \"foi\", round(aprox,2), \" com\",  round(abs(math.sqrt(n) - aprox),7), \"de diferença do resultado real\")\n",
        "    #return aprox\n",
        "\n",
        "raiz_quadrada(2, 1)\n",
        "raiz_quadrada(3, 1)"
      ],
      "execution_count": 22,
      "outputs": [
        {
          "output_type": "stream",
          "text": [
            "Em 3 loops, a raiz quadrada de 2 foi 1.41  com 2.1e-06 de diferença do resultado real\n",
            "Em 3 loops, a raiz quadrada de 3 foi 1.73  com 9.2e-05 de diferença do resultado real\n"
          ],
          "name": "stdout"
        }
      ]
    }
  ]
}