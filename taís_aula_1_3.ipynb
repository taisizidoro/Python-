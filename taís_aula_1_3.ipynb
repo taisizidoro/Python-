{
  "nbformat": 4,
  "nbformat_minor": 0,
  "metadata": {
    "colab": {
      "name": "taís_aula_1_3.ipynb",
      "provenance": [],
      "authorship_tag": "ABX9TyPjsFbGMfj3r3v76erFIsmK",
      "include_colab_link": true
    },
    "kernelspec": {
      "name": "python3",
      "display_name": "Python 3"
    }
  },
  "cells": [
    {
      "cell_type": "markdown",
      "metadata": {
        "id": "view-in-github",
        "colab_type": "text"
      },
      "source": [
        "<a href=\"https://colab.research.google.com/github/taisizidoro/Python-/blob/master/ta%C3%ADs_aula_1_3.ipynb\" target=\"_parent\"><img src=\"https://colab.research.google.com/assets/colab-badge.svg\" alt=\"Open In Colab\"/></a>"
      ]
    },
    {
      "cell_type": "code",
      "metadata": {
        "id": "iGw2Kf_0JrDv",
        "colab_type": "code",
        "colab": {
          "base_uri": "https://localhost:8080/",
          "height": 51
        },
        "outputId": "1355b834-edec-4da6-f4cf-0bdf5ae544d5"
      },
      "source": [
        "#transformando o tempo em segundos, a distância em milhas e calculando o tempo médio por milha:\n",
        "t = 43*60 + 30\n",
        "s = 10/1.61\n",
        "tm = t/s\n",
        "print(tm)\n",
        "#Convertendo o tempo em horas e calculando a velocidade em milhas por hora:\n",
        "t = t/3600\n",
        "vm = s/t\n",
        "print(vm)"
      ],
      "execution_count": null,
      "outputs": [
        {
          "output_type": "stream",
          "text": [
            "420.21000000000004\n",
            "8.567144998929106\n"
          ],
          "name": "stdout"
        }
      ]
    }
  ]
}