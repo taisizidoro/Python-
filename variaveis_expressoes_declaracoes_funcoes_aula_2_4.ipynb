{
  "nbformat": 4,
  "nbformat_minor": 0,
  "metadata": {
    "colab": {
      "name": "variaveis_expressoes_declaracoes_funcoes_aula_2_4.ipynb",
      "provenance": [],
      "authorship_tag": "ABX9TyOwcCk9A5f0Erw/tiKlWKO6",
      "include_colab_link": true
    },
    "kernelspec": {
      "name": "python3",
      "display_name": "Python 3"
    }
  },
  "cells": [
    {
      "cell_type": "markdown",
      "metadata": {
        "id": "view-in-github",
        "colab_type": "text"
      },
      "source": [
        "<a href=\"https://colab.research.google.com/github/taisizidoro/Python-/blob/master/variaveis_expressoes_declaracoes_funcoes_aula_2_4.ipynb\" target=\"_parent\"><img src=\"https://colab.research.google.com/assets/colab-badge.svg\" alt=\"Open In Colab\"/></a>"
      ]
    },
    {
      "cell_type": "markdown",
      "metadata": {
        "id": "MqXctDc0YHO6",
        "colab_type": "text"
      },
      "source": [
        "Um laser vermelho (com comprimento de onda $\\lambda = 632.8$ nm) incide em uma fenda dupla produzindo um padrão de interferência com franjas claras e escuras, em um anteparo situado a uma distância D = 1.98 m da fenda. Calcule a distância $\\Delta y$ entre dois máximos consecutivos de interferência. Considere o espaçamento entre as fendas, $d$, como sendo igual a 0.250 mm. <em>Dica: a distância entre dois máximos de interferência consecutivos pode ser aproximada por $\\Delta y = \\frac{\\lambda D}{d}$."
      ]
    },
    {
      "cell_type": "code",
      "metadata": {
        "id": "L5Hzxu6VYEXE",
        "colab_type": "code",
        "colab": {
          "base_uri": "https://localhost:8080/",
          "height": 34
        },
        "outputId": "8fc6411e-5e4c-49f1-a9a4-bfa603186355"
      },
      "source": [
        "λ = 632.8*(10**(-9))\n",
        "D = 1.98\n",
        "d = 0.250*(10**(-3))\n",
        "\n",
        "Δy = λ*D/d\n",
        "print(\"A distância entre os dois máximos consecutivos é de \", Δy, \"metros.\")"
      ],
      "execution_count": 1,
      "outputs": [
        {
          "output_type": "stream",
          "text": [
            "A distância entre os dois máximos consecutivos é de  0.005011776 metros.\n"
          ],
          "name": "stdout"
        }
      ]
    }
  ]
}