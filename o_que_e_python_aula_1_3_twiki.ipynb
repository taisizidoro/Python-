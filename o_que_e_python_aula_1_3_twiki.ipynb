{
  "nbformat": 4,
  "nbformat_minor": 0,
  "metadata": {
    "colab": {
      "name": "o_que_e_python_aula_1_3_twiki.ipynb",
      "provenance": [],
      "authorship_tag": "ABX9TyOm+6SPawczQQZGSkvehcLd",
      "include_colab_link": true
    },
    "kernelspec": {
      "name": "python3",
      "display_name": "Python 3"
    }
  },
  "cells": [
    {
      "cell_type": "markdown",
      "metadata": {
        "id": "view-in-github",
        "colab_type": "text"
      },
      "source": [
        "<a href=\"https://colab.research.google.com/github/taisizidoro/Python-/blob/master/o_que_e_python_aula_1_3_twiki.ipynb\" target=\"_parent\"><img src=\"https://colab.research.google.com/assets/colab-badge.svg\" alt=\"Open In Colab\"/></a>"
      ]
    },
    {
      "cell_type": "markdown",
      "metadata": {
        "id": "2KwNx69jm1Fu",
        "colab_type": "text"
      },
      "source": [
        "Ache os zeros da função\n",
        " y = 3 *x^2 - 4 *x -10 "
      ]
    },
    {
      "cell_type": "code",
      "metadata": {
        "id": "3gJf2_PDj4fj",
        "colab_type": "code",
        "colab": {
          "base_uri": "https://localhost:8080/",
          "height": 34
        },
        "outputId": "7467dc2f-23f4-4ee7-c77f-532bf1855ce8"
      },
      "source": [
        "#Seja a equação quadrática da fórmula f(x) = a*(x**2) + b*x + c: \n",
        "\n",
        "a = 3\n",
        "b = -4\n",
        "c = -10\n",
        "\n",
        "delta = (b**2)-(4*a*c)\n",
        "bskr_1 = (-b+(delta**(1/2)))/(2*a)\n",
        "bskr_2 = (-b-(delta**(1/2)))/(2*a)\n",
        "\n",
        "print(\"Os zeros da função são: x =\", bskr_1, \"e x =\", bskr_2,\".\")\n"
      ],
      "execution_count": 3,
      "outputs": [
        {
          "output_type": "stream",
          "text": [
            "Os zeros da função são: x = 2.610317298281767 e x = -1.2769839649484336 .\n"
          ],
          "name": "stdout"
        }
      ]
    }
  ]
}