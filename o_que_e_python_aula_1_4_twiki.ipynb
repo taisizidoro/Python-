{
  "nbformat": 4,
  "nbformat_minor": 0,
  "metadata": {
    "colab": {
      "name": "o_que_e_python_aula_1_4_twiki.ipynb",
      "provenance": [],
      "authorship_tag": "ABX9TyMkFKmW5j+RP4VWTKhTcW+b",
      "include_colab_link": true
    },
    "kernelspec": {
      "name": "python3",
      "display_name": "Python 3"
    }
  },
  "cells": [
    {
      "cell_type": "markdown",
      "metadata": {
        "id": "view-in-github",
        "colab_type": "text"
      },
      "source": [
        "<a href=\"https://colab.research.google.com/github/taisizidoro/Python-/blob/master/o_que_e_python_aula_1_4_twiki.ipynb\" target=\"_parent\"><img src=\"https://colab.research.google.com/assets/colab-badge.svg\" alt=\"Open In Colab\"/></a>"
      ]
    },
    {
      "cell_type": "markdown",
      "metadata": {
        "id": "LeaPXbE-qEG_",
        "colab_type": "text"
      },
      "source": [
        "Se, ao meiodia, a sombra de um poste de 5 m de altura tem apenas 50 cm de comprimento no chão, qual o ângulo zenital do sol?"
      ]
    },
    {
      "cell_type": "code",
      "metadata": {
        "id": "jSD699OAqCln",
        "colab_type": "code",
        "colab": {
          "base_uri": "https://localhost:8080/",
          "height": 34
        },
        "outputId": "505944f6-f1d8-4f28-9587-c7d2ac762be8"
      },
      "source": [
        "#Defini primeiro os catetos, em metros, e depois usei o arco tangente para achar o angulo zential em radianos.\n",
        "\n",
        "import math\n",
        "\n",
        "c_op = 0.5 \n",
        "c_adj = 5\n",
        "\n",
        "angulo = math.atan(c_op/c_adj)\n",
        "print(\"o ângulo zenital do sol é de\", round(angulo,4), \"radianos.\")"
      ],
      "execution_count": 8,
      "outputs": [
        {
          "output_type": "stream",
          "text": [
            "o ângulo zenital do sol é de 0.0997 radianos.\n"
          ],
          "name": "stdout"
        }
      ]
    }
  ]
}