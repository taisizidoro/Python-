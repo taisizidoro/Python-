{
  "nbformat": 4,
  "nbformat_minor": 0,
  "metadata": {
    "colab": {
      "name": "dicionarios_aula_11.ipynb",
      "provenance": [],
      "authorship_tag": "ABX9TyOYACoMROEx7jB0SNJTqSDA",
      "include_colab_link": true
    },
    "kernelspec": {
      "name": "python3",
      "display_name": "Python 3"
    }
  },
  "cells": [
    {
      "cell_type": "markdown",
      "metadata": {
        "id": "view-in-github",
        "colab_type": "text"
      },
      "source": [
        "<a href=\"https://colab.research.google.com/github/taisizidoro/Python-/blob/master/dicionarios_aula_11.ipynb\" target=\"_parent\"><img src=\"https://colab.research.google.com/assets/colab-badge.svg\" alt=\"Open In Colab\"/></a>"
      ]
    },
    {
      "cell_type": "markdown",
      "metadata": {
        "id": "WBU_33pMYn34"
      },
      "source": [
        "1) Utilizando dicionários e o método ***get***, contrua a seguinte matriz em python e acesse os valores de índices (0,3), (2,1), (4,3) e (2,2).\n",
        "![matrix](https://github.com/malbouis/Python_intro/blob/master/aulas_2019/pics/matrix_aula12.png?raw=1)"
      ]
    },
    {
      "cell_type": "code",
      "metadata": {
        "colab": {
          "base_uri": "https://localhost:8080/"
        },
        "id": "7E98XAooYizu",
        "outputId": "7cac421f-a38d-4cf0-dd6f-3d52ad980956"
      },
      "source": [
        "matriz = {(0, 0): 0, (0, 1): 0, (0, 2): 0, (0, 3): 1, (0, 4): 0, (1, 0): 0, (1, 1): 0, (1, 2): 0, (1, 3): 1, (1, 4): 0, (2, 0): 0, (2, 1): 2, (2, 2): 0, (2, 3): 0, (2, 4): 0, (3, 0): 0, (3, 1): 0, (3, 2): 0, (3, 3): 1, (3, 4): 0, (4, 0): 0, (4, 1): 0, (4, 2): 0, (4, 3): 3, (4, 4): 0}\n",
        "\n",
        "def valor(linha,coluna):\n",
        "  print(\"valor de\",\"(\",linha,\",\",coluna,\")\",\"igual a:\", matriz.get(linha,coluna))\n",
        "\n",
        "valor(0,3)\n",
        "valor(2,1)\n",
        "valor(4,3)\n",
        "valor(2,2)"
      ],
      "execution_count": 5,
      "outputs": [
        {
          "output_type": "stream",
          "text": [
            "valor de ( 0 , 3 ) igual a: 3\n",
            "valor de ( 2 , 1 ) igual a: 1\n",
            "valor de ( 4 , 3 ) igual a: 3\n",
            "valor de ( 2 , 2 ) igual a: 2\n"
          ],
          "name": "stdout"
        }
      ]
    },
    {
      "cell_type": "markdown",
      "metadata": {
        "id": "SrI0b0CpaEyt"
      },
      "source": [
        "2) Contagem de Letras. \n",
        "\n",
        "a) Utilizando dicionários, escreva uma função que tome como argumento uma palavra (string) e  retorne um dicionário que tem como ***key*** a letra da palavra e como valor o número de vezes que ela aparece na palavra. Tal dicionário é chamado de **tabela de frequência**.\n",
        "***Dica***: Utilize o método ***get*** dos dicionários."
      ]
    },
    {
      "cell_type": "code",
      "metadata": {
        "colab": {
          "base_uri": "https://localhost:8080/"
        },
        "id": "xb2OE-tYaFsu",
        "outputId": "ec1d1c9e-fdc4-432d-e871-ade2fff99a4c"
      },
      "source": [
        "def tabela_de_frequencia(string):\n",
        "  tabela = {}\n",
        "  for i in string: \n",
        "      if i in tabela: \n",
        "          tabela[i] += 1\n",
        "      else: \n",
        "          tabela[i] = 1\n",
        "  print('tabela de frequência em',string,':' )\n",
        "  print(tabela)\n",
        "\n",
        "tabela_de_frequencia(\"eu adoro python\")"
      ],
      "execution_count": 33,
      "outputs": [
        {
          "output_type": "stream",
          "text": [
            "tabela de frequência em eu adoro python :\n",
            "{'e': 1, 'u': 1, ' ': 2, 'a': 1, 'd': 1, 'o': 3, 'r': 1, 'p': 1, 'y': 1, 't': 1, 'h': 1, 'n': 1}\n",
            "[(' ', 2), ('a', 1), ('d', 1), ('e', 1), ('h', 1), ('n', 1), ('o', 3), ('p', 1), ('r', 1), ('t', 1), ('u', 1), ('y', 1)]\n"
          ],
          "name": "stdout"
        }
      ]
    },
    {
      "cell_type": "markdown",
      "metadata": {
        "id": "PMuRZLMSc6Zn"
      },
      "source": [
        "b) Utilizando os métodos sort() (referente a listas) e items() (referente a dicionários), imprima na tela uma lista ordenada alfabeticamente da tabela de frequência obtida no item a)."
      ]
    },
    {
      "cell_type": "code",
      "metadata": {
        "colab": {
          "base_uri": "https://localhost:8080/"
        },
        "id": "vEWHBKUQemDW",
        "outputId": "84ae2188-3135-4ae2-86a7-dcae35454cdc"
      },
      "source": [
        "def tabela_de_frequencia(string):\n",
        "  tabela = {}\n",
        "  for i in string: \n",
        "      if i in tabela: \n",
        "          tabela[i] += 1\n",
        "      else: \n",
        "          tabela[i] = 1\n",
        "  x = sorted(tabela.items())\n",
        "  print(x)\n",
        "\n",
        "tabela_de_frequencia(\"eu adoro python\")\n"
      ],
      "execution_count": 37,
      "outputs": [
        {
          "output_type": "stream",
          "text": [
            "[(' ', 2), ('a', 1), ('d', 1), ('e', 1), ('h', 1), ('n', 1), ('o', 3), ('p', 1), ('r', 1), ('t', 1), ('u', 1), ('y', 1)]\n"
          ],
          "name": "stdout"
        }
      ]
    },
    {
      "cell_type": "markdown",
      "metadata": {
        "id": "_iEdreDng1HJ"
      },
      "source": [
        "3) Escreva um programa que leia uma string e retorne uma tabela das letras do alfabeto em ordem alfabética que ocorrem na string junto com o número de vezes que cada letra ocorre. Letras maiúsculas devem deve ser ignoradas."
      ]
    },
    {
      "cell_type": "code",
      "metadata": {
        "colab": {
          "base_uri": "https://localhost:8080/"
        },
        "id": "_bC_Wsh5g14x",
        "outputId": "f7d46619-315c-440c-9454-a7db2f6d5df2"
      },
      "source": [
        "def tabela_de_frequencia(string):\n",
        "  tabela = {} \n",
        "  for i in string: \n",
        "      if i in tabela: \n",
        "          tabela[i] += 1\n",
        "      else: \n",
        "          tabela[i] = 1\n",
        "  for j in sorted(tabela.keys()) :\n",
        "      print(j, \"->\", tabela.get(j))\n",
        "\n",
        "tabela_de_frequencia(\"dicionarios\")"
      ],
      "execution_count": 40,
      "outputs": [
        {
          "output_type": "stream",
          "text": [
            "a -> 1\n",
            "c -> 1\n",
            "d -> 1\n",
            "i -> 3\n",
            "n -> 1\n",
            "o -> 2\n",
            "r -> 1\n",
            "s -> 1\n"
          ],
          "name": "stdout"
        }
      ]
    }
  ]
}