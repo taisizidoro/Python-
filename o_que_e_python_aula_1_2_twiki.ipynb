{
  "nbformat": 4,
  "nbformat_minor": 0,
  "metadata": {
    "colab": {
      "name": "o_que_e_python_aula_1_2_twiki.ipynb",
      "provenance": [],
      "authorship_tag": "ABX9TyNH/aRkp1de/QHwM6cHQY3I",
      "include_colab_link": true
    },
    "kernelspec": {
      "name": "python3",
      "display_name": "Python 3"
    }
  },
  "cells": [
    {
      "cell_type": "markdown",
      "metadata": {
        "id": "view-in-github",
        "colab_type": "text"
      },
      "source": [
        "<a href=\"https://colab.research.google.com/github/taisizidoro/Python-/blob/master/o_que_e_python_aula_1_2_twiki.ipynb\" target=\"_parent\"><img src=\"https://colab.research.google.com/assets/colab-badge.svg\" alt=\"Open In Colab\"/></a>"
      ]
    },
    {
      "cell_type": "markdown",
      "metadata": {
        "id": "O86vk3jwa4n_",
        "colab_type": "text"
      },
      "source": [
        "Desde sua varanda você escuta o som do primeiro fogo artificial do reveillon 3 segundos depois de ver a luz, qual a distância? (o som tem velocidade 343 m/s e a luz %$3\\times 10^8$% m/s)."
      ]
    },
    {
      "cell_type": "code",
      "metadata": {
        "id": "U8jCluQYavfM",
        "colab_type": "code",
        "colab": {
          "base_uri": "https://localhost:8080/",
          "height": 51
        },
        "outputId": "be1a7d88-723d-49bb-eb5c-14fa62d12daf"
      },
      "source": [
        "#Declarando as variáveis em m/s e s.\n",
        "v_som = 343\n",
        "v_luz = 3*(10**8)\n",
        "t_som = 3 \n",
        "\n",
        "d_som = v_som*t_som\n",
        "print(\"A distância entre você na varanda e o local do fogo de artifício é de\", d_som, \"metros.\")\n",
        "\n",
        "#Agora um jeito alternativo, primeiramente achando o \"tempo da luz\":\n",
        "\n",
        "#Δs_som = v_som*(t_som+t_luz)\n",
        "#Δs_luz = v_luz*t_luz\n",
        "#Δs_som = Δs_luz\n",
        "#v_som*(t_som+t_luz) = v_luz*t_luz\n",
        "#v_som*t_som + v_som*t_luz = v_luz*t_luz\n",
        "#v_som*t_som = v_luz*t_luz - v_som*t_luz\n",
        "#v_som*t_som = t_luz(v_luz-v_som)\n",
        "\n",
        "t_luz = v_som*t_som/(v_luz-v_som)\n",
        "d_luz = v_luz*t_luz\n",
        "print(\"A distância entre você na varanda e o local do fogo de artifício é de\", round(d_luz,0), \"metros.\")\n",
        "\n"
      ],
      "execution_count": 9,
      "outputs": [
        {
          "output_type": "stream",
          "text": [
            "A distância entre você na varanda e o local do fogo de artifício é de 1029 metros.\n",
            "A distância entre você na varanda e o local do fogo de artifício é de 1029.0 metros.\n"
          ],
          "name": "stdout"
        }
      ]
    }
  ]
}