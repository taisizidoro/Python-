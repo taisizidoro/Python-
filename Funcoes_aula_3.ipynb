{
  "nbformat": 4,
  "nbformat_minor": 0,
  "metadata": {
    "colab": {
      "name": "Funcoes_aula_3.ipynb",
      "provenance": [],
      "authorship_tag": "ABX9TyMUXaMwdYf1rEJoCmK25FVB",
      "include_colab_link": true
    },
    "kernelspec": {
      "name": "python3",
      "display_name": "Python 3"
    }
  },
  "cells": [
    {
      "cell_type": "markdown",
      "metadata": {
        "id": "view-in-github",
        "colab_type": "text"
      },
      "source": [
        "<a href=\"https://colab.research.google.com/github/taisizidoro/Python-/blob/master/Funcoes_aula_3.ipynb\" target=\"_parent\"><img src=\"https://colab.research.google.com/assets/colab-badge.svg\" alt=\"Open In Colab\"/></a>"
      ]
    },
    {
      "cell_type": "markdown",
      "metadata": {
        "id": "jl2RQ8Dzcavh"
      },
      "source": [
        "Crie uma funcão que tome um argumento e imprima o valor e o tipo dele."
      ]
    },
    {
      "cell_type": "code",
      "metadata": {
        "id": "DdyPOXH7TyJO",
        "outputId": "0b9579f2-8b17-47b4-ea1d-515edcbbd661",
        "colab": {
          "base_uri": "https://localhost:8080/",
          "height": 34
        }
      },
      "source": [
        "def teste(x):\n",
        "  print(\"argumento:\",x, \"tipo:\", type(x))\n",
        "\n",
        "teste(\"teste\")"
      ],
      "execution_count": null,
      "outputs": [
        {
          "output_type": "stream",
          "text": [
            "argumento: teste tipo: <class 'str'>\n"
          ],
          "name": "stdout"
        }
      ]
    },
    {
      "cell_type": "markdown",
      "metadata": {
        "id": "FNTfUyHMfpJB"
      },
      "source": [
        "Crie uma função que calcule e imprima velocidade media de um objeto a partir de uma posição inicial, a final e o tempo transcorrido para um objeto em MRU. Também crie uma funcão que calcule e imprima a velocidade de um objeto a partir da aceleração constante e o tempo (MRUA) (p.ex. queda libre)."
      ]
    },
    {
      "cell_type": "code",
      "metadata": {
        "id": "pKrdq-dsfp_j",
        "outputId": "a6d3ca5c-ec29-49e2-8ed2-3242e146047b",
        "colab": {
          "base_uri": "https://localhost:8080/",
          "height": 170
        }
      },
      "source": [
        "def velocidade():\n",
        "\n",
        "  s = int(input(print(\"Entre com a posição inicial:\")))\n",
        "  t = int(input(print(\"Entre com o tempo decorrido:\")))\n",
        "  a = int(input(print(\"Entre com o valor da aceleração:\")))\n",
        "\n",
        "  if (a == 0):\n",
        "    v = s/t\n",
        "    print(\"velocidade =\", v)\n",
        "  else:\n",
        "    vi = int(input(print(\"Entre com o valor inicial da velocidade:\")))\n",
        "    v = vi+(a*t)\n",
        "    print(\"velocidade =\", v)\n",
        "\n",
        "velocidade()"
      ],
      "execution_count": null,
      "outputs": [
        {
          "output_type": "stream",
          "text": [
            "Entre com a posição inicial:\n",
            "2\n",
            "Entre com o tempo decorrido:\n",
            "2\n",
            "Entre com o valor da aceleração:\n",
            "2\n",
            "Entre com o valor inicial da velocidade:\n",
            "2\n",
            "velocidade = 6\n"
          ],
          "name": "stdout"
        }
      ]
    },
    {
      "cell_type": "markdown",
      "metadata": {
        "id": "iQc4ObSYq14l"
      },
      "source": [
        "Crie uma funcão para calcular o ángulo zenital do sol (da semana passada) tomando como argumento as medidas da altura e o comprimento da sombra"
      ]
    },
    {
      "cell_type": "code",
      "metadata": {
        "id": "2q6DAcJdq2PV",
        "outputId": "e550e2e2-af15-45f3-d7e8-ec1dc98ba7b0",
        "colab": {
          "base_uri": "https://localhost:8080/",
          "height": 102
        }
      },
      "source": [
        "import math\n",
        "from math import pi \n",
        "\n",
        "c_op = int(input(print(\"Qual o comprimento da sombra?\"))) \n",
        "c_adj = int(input(print(\"Qual a altura?\")))\n",
        "\n",
        "rad = math.atan(c_op/c_adj)\n",
        "grau = (rad*180)/pi\n",
        "print(\"o ângulo zenital do sol é de\", round(rad,4), \"radianos e\", round(grau,0), \"graus.\")"
      ],
      "execution_count": null,
      "outputs": [
        {
          "output_type": "stream",
          "text": [
            "Qual o comprimento da sombra?\n",
            "2\n",
            "Qual a altura?\n",
            "10\n",
            "o ângulo zenital do sol é de 0.1974 radianos e 11.0 graus.\n"
          ],
          "name": "stdout"
        }
      ]
    },
    {
      "cell_type": "markdown",
      "metadata": {
        "id": "3mlwfbPOtFZK"
      },
      "source": [
        "Crie uma função que faça a conversão de uma medida inicialmente em milhas para m, e outra para o inverso; uma de horas para segundos, e o inverso. Utilize estas funções para resolver novamente o primeiro exercício da semana passada (da corrida). Se uma pessoa demora 30 minutos em 4 milhas, qual velocidade media em km/h ? e o tempo medio por kilometro?"
      ]
    },
    {
      "cell_type": "code",
      "metadata": {
        "id": "abjMpkhZtFwt",
        "outputId": "6553b160-2b1c-4e0d-a6d0-e2bd35dd17d8",
        "colab": {
          "base_uri": "https://localhost:8080/",
          "height": 34
        }
      },
      "source": [
        "def milha_para_metro(s):\n",
        "  #s = int(input(print(\"Entre com o valor em milhas:\")))\n",
        "  s_metro = s*1609.34\n",
        "  s = s_metro\n",
        "\n",
        "def metro_para_milha(s):\n",
        "  #s = int(input(print(\"Entre com o valor em metros:\")))\n",
        "  s_milha = s/1609.34\n",
        "  s = s_milha\n",
        "\n",
        "def hora_para_segundo(t):\n",
        "  #t = int(input(print(\"Entre com  valor das horas:\")))\n",
        "  t_seg = t*3600\n",
        "  t = t_seg\n",
        "\n",
        "def segundo_para_hora(t):\n",
        "  #t = int(input(print(\"Entre com  valor dos segundos:\")))\n",
        "  t_horas = t/3600\n",
        "  t = t_horas\n",
        "\n",
        "####################################################################\n",
        "\n",
        "def exercicio():\n",
        "\n",
        "  t = 30*60 #em segundos\n",
        "  segundo_para_hora(t)\n",
        "  s = 4 #em milhas\n",
        "  milha_para_metro(s)\n",
        "  s = s*(10**(-3)) #em km\n",
        "\n",
        "  v = s/t\n",
        "  tm = t/s\n",
        "  print(\"A velocidade média em km/h é de\", v, \"e o tempo médio por km é de\", tm)\n",
        "\n",
        "exercicio()\n",
        "  \n",
        "\n"
      ],
      "execution_count": 73,
      "outputs": [
        {
          "output_type": "stream",
          "text": [
            "A velocidade média em km/h é de 2.222222222222222e-06 e o tempo médio por km é de 450000.0\n"
          ],
          "name": "stdout"
        }
      ]
    },
    {
      "cell_type": "markdown",
      "metadata": {
        "id": "aLWbi1mltGGD"
      },
      "source": [
        "Crie funções para calcular os outros exemplos das aulas anteriores: IMC, volume de uma esfera, distancia entre pontos de máximos de difração. Decida quais serão os argumentos e o valor retornado."
      ]
    },
    {
      "cell_type": "code",
      "metadata": {
        "id": "L4RDn__HtGXn",
        "outputId": "cb3f053b-1b03-4635-f95a-ccb37874f83b",
        "colab": {
          "base_uri": "https://localhost:8080/",
          "height": 102
        }
      },
      "source": [
        "def IMC():\n",
        "  m = float(input(print(\"Qual a massa em kg?\")))\n",
        "  a = float(input(print(\"Qual a altura em metros?\")))\n",
        "\n",
        "  IMC = m/(a**2)\n",
        "  print(\"o IMC é de\", round(IMC, 0), \"kg/m²\")\n",
        "\n",
        "\n",
        "def distancia():\n",
        "  λ = float(input(print(\"Qual o comprimento de onda em metros?\")))\n",
        "  D = float(input(print(\"Qual a distância entre o anteparo e a fenda em metros?\")))\n",
        "  d = float(input(print(\"Qual a distância entre as fendas em metros?\")))\n",
        "\n",
        "  Δy = λ*D/d\n",
        "  print(\"A distância entre os dois máximos consecutivos é de \", Δy, \"metros.\")\n",
        "\n",
        "\n",
        "def volume():\n",
        "  from numpy import pi\n",
        "  r = float(input(print(\"Qual o raio da esfera em metros?\")))\n",
        "  volume = (4/3)*(r**3)*pi\n",
        "  print(\"O volume da esfera é de\", round(volume,1), \"m³\")"
      ],
      "execution_count": 79,
      "outputs": [
        {
          "output_type": "stream",
          "text": [
            "Qual a massa?\n",
            "57\n",
            "Qual a altura?\n",
            "1.63\n",
            "o IMC é de 21.0\n"
          ],
          "name": "stdout"
        }
      ]
    }
  ]
}