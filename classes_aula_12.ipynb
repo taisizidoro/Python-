{
  "nbformat": 4,
  "nbformat_minor": 0,
  "metadata": {
    "colab": {
      "name": "classes_aula_12.ipynb",
      "provenance": [],
      "authorship_tag": "ABX9TyMxMUwLjhhc98zw7sy9mI8x",
      "include_colab_link": true
    },
    "kernelspec": {
      "name": "python3",
      "display_name": "Python 3"
    }
  },
  "cells": [
    {
      "cell_type": "markdown",
      "metadata": {
        "id": "view-in-github",
        "colab_type": "text"
      },
      "source": [
        "<a href=\"https://colab.research.google.com/github/taisizidoro/Python-/blob/master/classes_aula_12.ipynb\" target=\"_parent\"><img src=\"https://colab.research.google.com/assets/colab-badge.svg\" alt=\"Open In Colab\"/></a>"
      ]
    },
    {
      "cell_type": "markdown",
      "metadata": {
        "id": "HEPNRYSHknFb"
      },
      "source": [
        "## Exercícios:\n",
        "\n",
        "1) Escreva uma função que calcula a distância entre dois pontos, usando a classe Ponto que fizemos nessa aula."
      ]
    },
    {
      "cell_type": "code",
      "metadata": {
        "id": "HUjyWYLgkXO0"
      },
      "source": [
        "class Ponto:\n",
        "    \"\"\" Cria um novo Ponto, com coordenadas x, y \"\"\"\n",
        "\n",
        "    def __init__(self, x=0, y=0):\n",
        "        \"\"\" Inicializa em x, y o novo ponto criado pela classe \"\"\"\n",
        "        self.x = x\n",
        "        self.y = y\n",
        "\n",
        "    def distancia_da_origem(self):\n",
        "        \"\"\" Calcula minha distânica da origem \"\"\"\n",
        "        return ((self.x ** 2) + (self.y ** 2)) ** 0.5\n",
        "    \n",
        "    def ponto_medio(self, alvo):\n",
        "        \"\"\" Retorna o ponto medio entre esse ponto e o alvo \"\"\"\n",
        "        mx = (self.x + alvo.x)/2\n",
        "        my = (self.y + alvo.y)/2\n",
        "        return Ponto(mx, my)\n",
        "    \n",
        "    def __str__(self):\n",
        "        return \"({0}, {1})\".format(self.x, self.y)"
      ],
      "execution_count": 51,
      "outputs": []
    },
    {
      "cell_type": "code",
      "metadata": {
        "colab": {
          "base_uri": "https://localhost:8080/"
        },
        "id": "X0i4EB7l3929",
        "outputId": "1c251475-4ff1-4731-9369-9bb4fce5d7ae"
      },
      "source": [
        "def distancia(self, alvo):\n",
        "    dx = abs(self.x - alvo.x)\n",
        "    dy = abs(self.y - alvo.y)\n",
        "    return Ponto(dx,dy)  \n",
        "\n",
        "p1 = Ponto(0,9)\n",
        "p2 = Ponto(4,5)\n",
        "print(distancia(p1,p2))"
      ],
      "execution_count": 28,
      "outputs": [
        {
          "output_type": "stream",
          "text": [
            "(4, 4)\n"
          ],
          "name": "stdout"
        }
      ]
    },
    {
      "cell_type": "markdown",
      "metadata": {
        "id": "pyWQo0Tz4Bkm"
      },
      "source": [
        "2) Adicione um método reflexao_x à classe Ponto que retorna uma instância de Ponto, que é o reflexo do Ponto sobre o eixo x. Por exemplo, Point (3, 5) .reflexao_x () é (3, -5)"
      ]
    },
    {
      "cell_type": "code",
      "metadata": {
        "colab": {
          "base_uri": "https://localhost:8080/"
        },
        "id": "8TgPe2WI4CQu",
        "outputId": "bd499366-cea6-4b77-cabc-4769ea02d0c1"
      },
      "source": [
        "class Ponto:\n",
        "    \"\"\" Cria um novo Ponto, com coordenadas x, y \"\"\"\n",
        "\n",
        "    def __init__(self, x=0, y=0):\n",
        "        \"\"\" Inicializa em x, y o novo ponto criado pela classe \"\"\"\n",
        "        self.x = x\n",
        "        self.y = y\n",
        "\n",
        "    def distancia_da_origem(self):\n",
        "        \"\"\" Calcula minha distânica da origem \"\"\"\n",
        "        return ((self.x ** 2) + (self.y ** 2)) ** 0.5\n",
        "    \n",
        "    def ponto_medio(self, alvo):\n",
        "        \"\"\" Retorna o ponto medio entre esse ponto e o alvo \"\"\"\n",
        "        mx = (self.x + alvo.x)/2\n",
        "        my = (self.y + alvo.y)/2\n",
        "        return Ponto(mx, my)\n",
        "    \n",
        "    def __str__(self):\n",
        "        return \"({0}, {1})\".format(self.x, self.y)\n",
        "    \n",
        "    def reflexao_x(self):\n",
        "        x = self.x\n",
        "        y = -self.y\n",
        "        return(x,y)\n",
        "\n",
        "p = Ponto(9,4)\n",
        "print(reflexao_x(p))"
      ],
      "execution_count": 30,
      "outputs": [
        {
          "output_type": "stream",
          "text": [
            "(9, -4)\n"
          ],
          "name": "stdout"
        }
      ]
    },
    {
      "cell_type": "code",
      "metadata": {
        "colab": {
          "base_uri": "https://localhost:8080/"
        },
        "id": "1mv4OABo752e",
        "outputId": "62373956-bfa6-4a98-a231-668fca3edff1"
      },
      "source": [
        "def reflexao_x(self):\n",
        "    x = self.x\n",
        "    y = -self.y\n",
        "    return(x,y)\n",
        "\n",
        "p = Ponto(9,4)\n",
        "print(reflexao_x(p))"
      ],
      "execution_count": 31,
      "outputs": [
        {
          "output_type": "stream",
          "text": [
            "(9, -4)\n"
          ],
          "name": "stdout"
        }
      ]
    },
    {
      "cell_type": "markdown",
      "metadata": {
        "id": "KFWF5Nkm8BiJ"
      },
      "source": [
        "3) Adicione um método ***inclinacao_da_origem*** à classe Ponto, que retorne a inclinação da linha que une a origem ao Ponto. Por exemplo, (abaixo) O que pode dar errado com esse programa?"
      ]
    },
    {
      "cell_type": "code",
      "metadata": {
        "colab": {
          "base_uri": "https://localhost:8080/"
        },
        "id": "X6p0O97a8T0e",
        "outputId": "3cfd1882-127c-4a64-c006-a19b96306601"
      },
      "source": [
        "import math\n",
        "class Ponto:\n",
        "    \"\"\" Cria um novo Ponto, com coordenadas x, y \"\"\"\n",
        "    def __init__(self, x=0, y=0):\n",
        "        \"\"\" Inicializa em x, y o novo ponto criado pela classe \"\"\"\n",
        "        self.x = x\n",
        "        self.y = y\n",
        "    def distancia_da_origem(self):\n",
        "        \"\"\" Calcula minha distânica da origem \"\"\"\n",
        "        return ((self.x ** 2) + (self.y ** 2)) ** 0.5\n",
        "\n",
        "    def ponto_medio(self, alvo):\n",
        "        \"\"\" Retorna o ponto medio entre esse ponto e o alvo \"\"\"\n",
        "        mx = (self.x + alvo.x)/2\n",
        "        my = (self.y + alvo.y)/2\n",
        "        return Ponto(mx, my)\n",
        "        \n",
        "    def __str__(self):\n",
        "        return \"({0}, {1})\".format(self.x, self.y)\n",
        "\n",
        "    def inclinacao_da_origem(self):\n",
        "        tg =  self.y/self.x\n",
        "        inclinacao = math.atan(tg) \n",
        "        return tg\n",
        "            \n",
        "Ponto(4,10).inclinacao_da_origem()"
      ],
      "execution_count": 39,
      "outputs": [
        {
          "output_type": "execute_result",
          "data": {
            "text/plain": [
              "2.5"
            ]
          },
          "metadata": {
            "tags": []
          },
          "execution_count": 39
        }
      ]
    },
    {
      "cell_type": "markdown",
      "metadata": {
        "id": "RIewdJuY-Aez"
      },
      "source": [
        "4) A equação de uma linha reta é “y = ax + b”. Os coeficientes a e b descrevem completamente a reta. Escreva um método na classe Ponto para que, se uma instância Ponto receber outro Ponto, calcule a equação da linha reta que une os dois pontos. Deve retornar os dois coeficientes como uma tupla de dois valores."
      ]
    },
    {
      "cell_type": "code",
      "metadata": {
        "colab": {
          "base_uri": "https://localhost:8080/"
        },
        "id": "GHLdX99u-VCw",
        "outputId": "a1feb3dd-8d4f-4339-d37d-f4616668400f"
      },
      "source": [
        "class Ponto:\n",
        "    \"\"\" Cria um novo Ponto, com coordenadas x, y \"\"\"\n",
        "\n",
        "    def __init__(self, x=0, y=0):\n",
        "        \"\"\" Inicializa em x, y o novo ponto criado pela classe \"\"\"\n",
        "        self.x = x\n",
        "        self.y = y\n",
        "\n",
        "    def distancia_da_origem(self):\n",
        "        \"\"\" Calcula minha distânica da origem \"\"\"\n",
        "        return ((self.x ** 2) + (self.y ** 2)) ** 0.5\n",
        "    \n",
        "    def ponto_medio(self, alvo):\n",
        "        \"\"\" Retorna o ponto medio entre esse ponto e o alvo \"\"\"\n",
        "        mx = (self.x + alvo.x)/2\n",
        "        my = (self.y + alvo.y)/2\n",
        "        return Ponto(mx, my)\n",
        "    \n",
        "    def __str__(self):\n",
        "        return \"({0}, {1})\".format(self.x, self.y)\n",
        "\n",
        "    def parametros_da_reta(self, alvo):\n",
        "        a = abs(self.y-alvo.y)/abs(self.x - alvo.x) \n",
        "        b = self.y-a*self.x\n",
        "        print('y =',a,'x +',b ) \n",
        "        return (a,b)\n",
        "\n",
        "Ponto(8,4).parametros_da_reta(Ponto(3,5))"
      ],
      "execution_count": 55,
      "outputs": [
        {
          "output_type": "stream",
          "text": [
            "y = 0.2 x + 2.4\n"
          ],
          "name": "stdout"
        },
        {
          "output_type": "execute_result",
          "data": {
            "text/plain": [
              "(0.2, 2.4)"
            ]
          },
          "metadata": {
            "tags": []
          },
          "execution_count": 55
        }
      ]
    },
    {
      "cell_type": "markdown",
      "metadata": {
        "id": "5xbjqEfx_9je"
      },
      "source": [
        "O resultado acima nos diz que a equação da reta é y = 2x + 3. Quando esse método falha?"
      ]
    },
    {
      "cell_type": "code",
      "metadata": {
        "colab": {
          "base_uri": "https://localhost:8080/"
        },
        "id": "pSMpd-py_93Z",
        "outputId": "01477b29-ea71-4d68-ae98-c5edfc564d68"
      },
      "source": [
        "#from Ponto import *\n",
        "print(Ponto(4,11).parametros_da_reta(Ponto(6,15)))"
      ],
      "execution_count": 57,
      "outputs": [
        {
          "output_type": "stream",
          "text": [
            "y = 2.0 x + 3.0\n",
            "(2.0, 3.0)\n"
          ],
          "name": "stdout"
        }
      ]
    },
    {
      "cell_type": "markdown",
      "metadata": {
        "id": "BQ9GPKUGALCc"
      },
      "source": [
        "Resposta: O método falha quando temos que a variação de x = 0, por exemplo:\n"
      ]
    },
    {
      "cell_type": "code",
      "metadata": {
        "colab": {
          "base_uri": "https://localhost:8080/",
          "height": 282
        },
        "id": "02ZTM8g4AfeG",
        "outputId": "276d2522-90c7-4d42-a43e-d47cfba7bc5c"
      },
      "source": [
        "print(Ponto(4,11).parametros_da_reta(Ponto(4,15)))"
      ],
      "execution_count": 58,
      "outputs": [
        {
          "output_type": "error",
          "ename": "ZeroDivisionError",
          "evalue": "ignored",
          "traceback": [
            "\u001b[0;31m---------------------------------------------------------------------------\u001b[0m",
            "\u001b[0;31mZeroDivisionError\u001b[0m                         Traceback (most recent call last)",
            "\u001b[0;32m<ipython-input-58-df624dbd009c>\u001b[0m in \u001b[0;36m<module>\u001b[0;34m()\u001b[0m\n\u001b[0;32m----> 1\u001b[0;31m \u001b[0mprint\u001b[0m\u001b[0;34m(\u001b[0m\u001b[0mPonto\u001b[0m\u001b[0;34m(\u001b[0m\u001b[0;36m4\u001b[0m\u001b[0;34m,\u001b[0m\u001b[0;36m11\u001b[0m\u001b[0;34m)\u001b[0m\u001b[0;34m.\u001b[0m\u001b[0mparametros_da_reta\u001b[0m\u001b[0;34m(\u001b[0m\u001b[0mPonto\u001b[0m\u001b[0;34m(\u001b[0m\u001b[0;36m4\u001b[0m\u001b[0;34m,\u001b[0m\u001b[0;36m15\u001b[0m\u001b[0;34m)\u001b[0m\u001b[0;34m)\u001b[0m\u001b[0;34m)\u001b[0m\u001b[0;34m\u001b[0m\u001b[0;34m\u001b[0m\u001b[0m\n\u001b[0m",
            "\u001b[0;32m<ipython-input-55-e7f89f8e088e>\u001b[0m in \u001b[0;36mparametros_da_reta\u001b[0;34m(self, alvo)\u001b[0m\n\u001b[1;32m     21\u001b[0m \u001b[0;34m\u001b[0m\u001b[0m\n\u001b[1;32m     22\u001b[0m     \u001b[0;32mdef\u001b[0m \u001b[0mparametros_da_reta\u001b[0m\u001b[0;34m(\u001b[0m\u001b[0mself\u001b[0m\u001b[0;34m,\u001b[0m \u001b[0malvo\u001b[0m\u001b[0;34m)\u001b[0m\u001b[0;34m:\u001b[0m\u001b[0;34m\u001b[0m\u001b[0;34m\u001b[0m\u001b[0m\n\u001b[0;32m---> 23\u001b[0;31m         \u001b[0ma\u001b[0m \u001b[0;34m=\u001b[0m \u001b[0mabs\u001b[0m\u001b[0;34m(\u001b[0m\u001b[0mself\u001b[0m\u001b[0;34m.\u001b[0m\u001b[0my\u001b[0m\u001b[0;34m-\u001b[0m\u001b[0malvo\u001b[0m\u001b[0;34m.\u001b[0m\u001b[0my\u001b[0m\u001b[0;34m)\u001b[0m\u001b[0;34m/\u001b[0m\u001b[0mabs\u001b[0m\u001b[0;34m(\u001b[0m\u001b[0mself\u001b[0m\u001b[0;34m.\u001b[0m\u001b[0mx\u001b[0m \u001b[0;34m-\u001b[0m \u001b[0malvo\u001b[0m\u001b[0;34m.\u001b[0m\u001b[0mx\u001b[0m\u001b[0;34m)\u001b[0m\u001b[0;34m\u001b[0m\u001b[0;34m\u001b[0m\u001b[0m\n\u001b[0m\u001b[1;32m     24\u001b[0m         \u001b[0mb\u001b[0m \u001b[0;34m=\u001b[0m \u001b[0mself\u001b[0m\u001b[0;34m.\u001b[0m\u001b[0my\u001b[0m\u001b[0;34m-\u001b[0m\u001b[0ma\u001b[0m\u001b[0;34m*\u001b[0m\u001b[0mself\u001b[0m\u001b[0;34m.\u001b[0m\u001b[0mx\u001b[0m\u001b[0;34m\u001b[0m\u001b[0;34m\u001b[0m\u001b[0m\n\u001b[1;32m     25\u001b[0m         \u001b[0mprint\u001b[0m\u001b[0;34m(\u001b[0m\u001b[0;34m'y ='\u001b[0m\u001b[0;34m,\u001b[0m\u001b[0ma\u001b[0m\u001b[0;34m,\u001b[0m\u001b[0;34m'x +'\u001b[0m\u001b[0;34m,\u001b[0m\u001b[0mb\u001b[0m \u001b[0;34m)\u001b[0m\u001b[0;34m\u001b[0m\u001b[0;34m\u001b[0m\u001b[0m\n",
            "\u001b[0;31mZeroDivisionError\u001b[0m: division by zero"
          ]
        }
      ]
    }
  ]
}