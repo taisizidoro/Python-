{
  "nbformat": 4,
  "nbformat_minor": 0,
  "metadata": {
    "colab": {
      "name": "exercicio_classes_aula_13.ipynb",
      "provenance": [],
      "authorship_tag": "ABX9TyPIyUGkjDSLMRsmVbvd2xTq",
      "include_colab_link": true
    },
    "kernelspec": {
      "name": "python3",
      "display_name": "Python 3"
    }
  },
  "cells": [
    {
      "cell_type": "markdown",
      "metadata": {
        "id": "view-in-github",
        "colab_type": "text"
      },
      "source": [
        "<a href=\"https://colab.research.google.com/github/taisizidoro/Python-/blob/master/exercicio_classes_aula_13.ipynb\" target=\"_parent\"><img src=\"https://colab.research.google.com/assets/colab-badge.svg\" alt=\"Open In Colab\"/></a>"
      ]
    },
    {
      "cell_type": "markdown",
      "metadata": {
        "id": "wVfhh6GZBJrx"
      },
      "source": [
        "5) Usando a classe Ponto criada na última aula escreva uma classe Retangulo. A definição da classe Retangulo é: Dica: use o método criado no exercício 1)."
      ]
    },
    {
      "cell_type": "code",
      "metadata": {
        "id": "T2efgbRuA9ph"
      },
      "source": [
        "class Ponto:\n",
        "    \"\"\" Cria um novo Ponto, com coordenadas x, y \"\"\"\n",
        "\n",
        "    def __init__(self, x=0, y=0):\n",
        "        \"\"\" Inicializa em x, y o novo ponto criado pela classe \"\"\"\n",
        "        self.x = x\n",
        "        self.y = y\n",
        "\n",
        "    def distancia_da_origem(self):\n",
        "        \"\"\" Calcula minha distânica da origem \"\"\"\n",
        "        return ((self.x ** 2) + (self.y ** 2)) ** 0.5\n",
        "    \n",
        "    def ponto_medio(self, alvo):\n",
        "        \"\"\" Retorna o ponto medio entre esse ponto e o alvo \"\"\"\n",
        "        mx = (self.x + alvo.x)/2\n",
        "        my = (self.y + alvo.y)/2\n",
        "        return Ponto(mx, my)\n",
        "    \n",
        "    def __str__(self):\n",
        "        return \"({0}, {1})\".format(self.x, self.y)"
      ],
      "execution_count": 11,
      "outputs": []
    },
    {
      "cell_type": "code",
      "metadata": {
        "colab": {
          "base_uri": "https://localhost:8080/"
        },
        "id": "Q1Kg6kH7BM3w",
        "outputId": "6356a516-b16f-403b-aa28-1344951f5a22"
      },
      "source": [
        "class Rectangle:\n",
        "\n",
        "    def __init__(self, a, b, c, d ):\n",
        "        self.a = a ; self.b = b ; self.c = c ; self.d = d\n",
        "\n",
        "    def Largura(self):\n",
        "        largura = abs(self.b - self.a) \n",
        "        return largura\n",
        "\n",
        "    def Altura(self):\n",
        "        \"\"\" Retorna a altura do retangulo \"\"\"\n",
        "        altura = abs(self.c - self.b) \n",
        "        return altura\n",
        "    def __str__(self):\n",
        "        return \"(({0}, {1}), {2}, {3})\".format(self.a, self.b, self.c, self.d)\n",
        "\n",
        "r1 = Rectangle(0,4,7,6)\n",
        "print(\"Largura = a - b =\", r1.Largura())\n",
        "print(\"Altura = c - b =\", r1.Altura())"
      ],
      "execution_count": 8,
      "outputs": [
        {
          "output_type": "stream",
          "text": [
            "Largura = a - b = 4\n",
            "Altura = c - b = 3\n"
          ],
          "name": "stdout"
        }
      ]
    },
    {
      "cell_type": "markdown",
      "metadata": {
        "id": "Vfvlj4c5DSO7"
      },
      "source": [
        "6) Escreva uma definição para uma classe chamada **Circulo** com atributos ***centro*** e ***raio***, em que ***centro*** é um objeto do tipo **Ponto** e ***raio*** é um número.\n",
        "   * Instancie um objeto **Circulo** que represente um círculo com seu centro em (150, 100) e raio 75 e imprima na tela as coordenadas (x,y) do centro do círculo.\n",
        "   * Escreva uma função chamada ponto_no_circulo que use um Circulo e um Ponto e retorne True se o Ponto estiver dentro do círculo ou no limite do mesmo."
      ]
    },
    {
      "cell_type": "code",
      "metadata": {
        "colab": {
          "base_uri": "https://localhost:8080/"
        },
        "id": "LOuhsztUDTO7",
        "outputId": "c2f50d37-0711-4ced-ba6f-466019bab27b"
      },
      "source": [
        "class Circulo:\n",
        "    def __init__(self, centro, raio):\n",
        "        self.centro = centro ; self.raio = raio\n",
        "\n",
        "    def centro_do_circulo(self):\n",
        "        print(self.centro)\n",
        "\n",
        "    def ponto_no_circulo(self, ponto):\n",
        "      if ((ponto.y - self.centro.y)**2 + (ponto.x - self.centro.x)**2)**(0.5) <= self.raio:\n",
        "          return True\n",
        "      return False\n",
        "\n",
        "   # def ponto_no_circulo(self, ponto):\n",
        "    #    if ((ponto.y - self.C.y)**2 + (ponto.x - self.C.x)**2)**(0.5) <= self.R:\n",
        "      #      return True\n",
        "     #   return False\n",
        "    def __str__(self):\n",
        "        return \"(({0}, {1}), {2})\".format(self.C.x, self.C.y, self.R)\n",
        "\n",
        "circulo = Circulo(Ponto(150,100), 75)\n",
        "circulo.centro_do_circulo()\n",
        "circulo.ponto_no_circulo(Ponto(20,230))"
      ],
      "execution_count": 31,
      "outputs": [
        {
          "output_type": "stream",
          "text": [
            "(150, 100)\n"
          ],
          "name": "stdout"
        },
        {
          "output_type": "execute_result",
          "data": {
            "text/plain": [
              "False"
            ]
          },
          "metadata": {
            "tags": []
          },
          "execution_count": 31
        }
      ]
    },
    {
      "cell_type": "markdown",
      "metadata": {
        "id": "RoPTVsqlGtab"
      },
      "source": [
        "7) Escreva uma função chamada **desenhar_ret** que use um objeto ***Turtle*** e um ***Retangulo*** e use o Turtle para desenhar o retângulo."
      ]
    },
    {
      "cell_type": "code",
      "metadata": {
        "colab": {
          "base_uri": "https://localhost:8080/"
        },
        "id": "e50Pz3uuGumZ",
        "outputId": "ae07d4e0-818e-4ce1-e514-0de42f5bbb0a"
      },
      "source": [
        "!pip3 install ColabTurtle\n",
        "import ColabTurtle\n",
        "import ColabTurtle.Turtle"
      ],
      "execution_count": 32,
      "outputs": [
        {
          "output_type": "stream",
          "text": [
            "Collecting ColabTurtle\n",
            "  Downloading https://files.pythonhosted.org/packages/49/01/6da7091c2c6c917cce99c000b89acb6aa27b66ef6eafc0c0ccf59b98694f/ColabTurtle-2.0.0.tar.gz\n",
            "Building wheels for collected packages: ColabTurtle\n",
            "  Building wheel for ColabTurtle (setup.py) ... \u001b[?25l\u001b[?25hdone\n",
            "  Created wheel for ColabTurtle: filename=ColabTurtle-2.0.0-cp36-none-any.whl size=4032 sha256=ccaba16b8664bbdc42e36b3c486b7f14d24e4d54b2515c9aada365df9770cb06\n",
            "  Stored in directory: /root/.cache/pip/wheels/a8/29/ec/ad346f0042ae467cc74f4378916348faf975b07890651dcae7\n",
            "Successfully built ColabTurtle\n",
            "Installing collected packages: ColabTurtle\n",
            "Successfully installed ColabTurtle-2.0.0\n"
          ],
          "name": "stdout"
        }
      ]
    },
    {
      "cell_type": "code",
      "metadata": {
        "colab": {
          "base_uri": "https://localhost:8080/",
          "height": 521
        },
        "id": "lYusa1iQG-CY",
        "outputId": "5510aeab-9900-4c14-e845-a98fb6d9f8a9"
      },
      "source": [
        "class Rectangle:\n",
        "\n",
        "    def __init__(self, L=0, A=0):\n",
        "        self.L = L\n",
        "        self.A = A   \n",
        "\n",
        "    def desenhar_ret(self):\n",
        "        Alice = ColabTurtle.Turtle\n",
        "        Alice.initializeTurtle()\n",
        "\n",
        "        for i in range(4):\n",
        "            if i%2:\n",
        "                Alice.forward(self.L)\n",
        "            else:\n",
        "                Alice.forward(self.A)\n",
        "            Alice.left(90)\n",
        "\n",
        "    def __str__(self):\n",
        "        return \"(({0}, {1}), {2}, {3})\".format(self.canto.x, self.canto.y, self.L, self.A)\n",
        "\n",
        "Rectangle(29, 36).desenhar_ret()"
      ],
      "execution_count": 36,
      "outputs": [
        {
          "output_type": "display_data",
          "data": {
            "text/html": [
              "\n",
              "      <svg width=\"800\" height=\"500\">\n",
              "        <rect width=\"100%\" height=\"100%\" fill=\"black\"/>\n",
              "        <line x1=\"400\" y1=\"250\" x2=\"400.0\" y2=\"214.0\" stroke-linecap=\"round\" style=\"stroke:white;stroke-width:4\"/><line x1=\"400.0\" y1=\"214.0\" x2=\"371.0\" y2=\"214.0\" stroke-linecap=\"round\" style=\"stroke:white;stroke-width:4\"/><line x1=\"371.0\" y1=\"214.0\" x2=\"371.0\" y2=\"250.0\" stroke-linecap=\"round\" style=\"stroke:white;stroke-width:4\"/><line x1=\"371.0\" y1=\"250.0\" x2=\"400.0\" y2=\"250.0\" stroke-linecap=\"round\" style=\"stroke:white;stroke-width:4\"/>\n",
              "        \n",
              "      <g visibility=visible transform=\"rotate(180,400.0,250.0) translate(400.0, 250.0)\">\n",
              "        <circle stroke=\"white\" stroke-width=\"3\" fill=\"transparent\" r=\"12\" cx=\"0\" cy=\"0\"/>\n",
              "        <polygon points=\"0,19 3,16 -3,16\" style=\"fill:white;stroke:white;stroke-width:2\"/>\n",
              "      </g>\n",
              "    \n",
              "      </svg>\n",
              "    "
            ],
            "text/plain": [
              "<IPython.core.display.HTML object>"
            ]
          },
          "metadata": {
            "tags": []
          }
        }
      ]
    },
    {
      "cell_type": "markdown",
      "metadata": {
        "id": "y-Jjcf3QH7FL"
      },
      "source": [
        "8) Escreva uma função chamada desenhar_circulo que use uma ***Turtle*** e um ***Circulo*** e desenhe o ***Circulo***."
      ]
    },
    {
      "cell_type": "code",
      "metadata": {
        "colab": {
          "base_uri": "https://localhost:8080/",
          "height": 521
        },
        "id": "4GvEm7AwH_EQ",
        "outputId": "c8213e5c-c3c8-4027-bdf5-3ee6ce5d88ac"
      },
      "source": [
        "import math\n",
        "class Circle:\n",
        "\n",
        "    def __init__(self, centro, raio = 0):\n",
        "\n",
        "        self.centro = centro\n",
        "        self.raio = raio\n",
        "\n",
        "    def ponto_no_circulo(self, ponto):\n",
        "        if ((ponto.y - self.centro.y)**2 + (ponto.x - self.centro.x)**2)**(0.5) <= self.raio:\n",
        "            return True\n",
        "        return False\n",
        "\n",
        "    def desenhar_circulo(self):\n",
        "        Alice = ColabTurtle.Turtle\n",
        "        Alice.initializeTurtle()\n",
        "        Alice.penup()\n",
        "        Alice.goto(self.centro.x, self.centro.y)\n",
        "        Alice.forward(self.raio)\n",
        "        Alice.left(90)\n",
        "        Alice.speed(10)\n",
        "        Alice.pendown()       \n",
        "        L = 2*math.pi*self.raio\n",
        "        n = 60 \n",
        "        length = int(L/n)\n",
        "        alfa = 360/n\n",
        "        for i in range(n):\n",
        "            Alice.forward(length)\n",
        "            Alice.left(alfa)\n",
        "\n",
        "    def __str__(self):\n",
        "        return \"(({0}, {1}), {2})\".format(self.centro.x, self.centro.y, self.raio)\n",
        "\n",
        "Circle(Ponto(150,100), 75).desenhar_circulo()"
      ],
      "execution_count": 39,
      "outputs": [
        {
          "output_type": "display_data",
          "data": {
            "text/html": [
              "\n",
              "      <svg width=\"800\" height=\"500\">\n",
              "        <rect width=\"100%\" height=\"100%\" fill=\"black\"/>\n",
              "        <line x1=\"150.0\" y1=\"25.0\" x2=\"143.0\" y2=\"25.0\" stroke-linecap=\"round\" style=\"stroke:white;stroke-width:4\"/><line x1=\"143.0\" y1=\"25.0\" x2=\"136.0383467324221\" y2=\"25.731699242873574\" stroke-linecap=\"round\" style=\"stroke:white;stroke-width:4\"/><line x1=\"136.0383467324221\" y1=\"25.731699242873574\" x2=\"129.19131352728544\" y2=\"27.18708107859789\" stroke-linecap=\"round\" style=\"stroke:white;stroke-width:4\"/><line x1=\"129.19131352728544\" y1=\"27.18708107859789\" x2=\"122.53391791321937\" y2=\"29.35020003922252\" stroke-linecap=\"round\" style=\"stroke:white;stroke-width:4\"/><line x1=\"122.53391791321937\" y1=\"29.35020003922252\" x2=\"116.13909970972117\" y2=\"32.19735654075313\" stroke-linecap=\"round\" style=\"stroke:white;stroke-width:4\"/><line x1=\"116.13909970972117\" y1=\"32.19735654075313\" x2=\"110.0769218832301\" y2=\"35.69735654075313\" stroke-linecap=\"round\" style=\"stroke:white;stroke-width:4\"/><line x1=\"110.0769218832301\" y1=\"35.69735654075313\" x2=\"104.41380292260547\" y2=\"39.81185330680044\" stroke-linecap=\"round\" style=\"stroke:white;stroke-width:4\"/><line x1=\"104.41380292260547\" y1=\"39.81185330680044\" x2=\"99.21178914426372\" y2=\"44.49576755131245\" stroke-linecap=\"round\" style=\"stroke:white;stroke-width:4\"/><line x1=\"99.21178914426372\" y1=\"44.49576755131245\" x2=\"94.52787489975171\" y2=\"49.697781329654205\" stroke-linecap=\"round\" style=\"stroke:white;stroke-width:4\"/><line x1=\"94.52787489975171\" y1=\"49.697781329654205\" x2=\"90.4133781337044\" y2=\"55.360900290278835\" stroke-linecap=\"round\" style=\"stroke:white;stroke-width:4\"/><line x1=\"90.4133781337044\" y1=\"55.360900290278835\" x2=\"86.9133781337044\" y2=\"61.42307811676991\" stroke-linecap=\"round\" style=\"stroke:white;stroke-width:4\"/><line x1=\"86.9133781337044\" y1=\"61.42307811676991\" x2=\"84.0662216321738\" y2=\"67.81789632026812\" stroke-linecap=\"round\" style=\"stroke:white;stroke-width:4\"/><line x1=\"84.0662216321738\" y1=\"67.81789632026812\" x2=\"81.90310267154916\" y2=\"74.4752919343342\" stroke-linecap=\"round\" style=\"stroke:white;stroke-width:4\"/><line x1=\"81.90310267154916\" y1=\"74.4752919343342\" x2=\"80.44772083582485\" y2=\"81.32232513947083\" stroke-linecap=\"round\" style=\"stroke:white;stroke-width:4\"/><line x1=\"80.44772083582485\" y1=\"81.32232513947083\" x2=\"79.71602159295128\" y2=\"88.28397840704875\" stroke-linecap=\"round\" style=\"stroke:white;stroke-width:4\"/><line x1=\"79.71602159295128\" y1=\"88.28397840704875\" x2=\"79.71602159295128\" y2=\"95.28397840704875\" stroke-linecap=\"round\" style=\"stroke:white;stroke-width:4\"/><line x1=\"79.71602159295128\" y1=\"95.28397840704875\" x2=\"80.44772083582485\" y2=\"102.24563167462667\" stroke-linecap=\"round\" style=\"stroke:white;stroke-width:4\"/><line x1=\"80.44772083582485\" y1=\"102.24563167462667\" x2=\"81.90310267154916\" y2=\"109.0926648797633\" stroke-linecap=\"round\" style=\"stroke:white;stroke-width:4\"/><line x1=\"81.90310267154916\" y1=\"109.0926648797633\" x2=\"84.0662216321738\" y2=\"115.75006049382938\" stroke-linecap=\"round\" style=\"stroke:white;stroke-width:4\"/><line x1=\"84.0662216321738\" y1=\"115.75006049382938\" x2=\"86.9133781337044\" y2=\"122.14487869732758\" stroke-linecap=\"round\" style=\"stroke:white;stroke-width:4\"/><line x1=\"86.9133781337044\" y1=\"122.14487869732758\" x2=\"90.4133781337044\" y2=\"128.20705652381866\" stroke-linecap=\"round\" style=\"stroke:white;stroke-width:4\"/><line x1=\"90.4133781337044\" y1=\"128.20705652381866\" x2=\"94.52787489975171\" y2=\"133.8701754844433\" stroke-linecap=\"round\" style=\"stroke:white;stroke-width:4\"/><line x1=\"94.52787489975171\" y1=\"133.8701754844433\" x2=\"99.21178914426372\" y2=\"139.07218926278506\" stroke-linecap=\"round\" style=\"stroke:white;stroke-width:4\"/><line x1=\"99.21178914426372\" y1=\"139.07218926278506\" x2=\"104.41380292260548\" y2=\"143.75610350729707\" stroke-linecap=\"round\" style=\"stroke:white;stroke-width:4\"/><line x1=\"104.41380292260548\" y1=\"143.75610350729707\" x2=\"110.07692188323011\" y2=\"147.8706002733444\" stroke-linecap=\"round\" style=\"stroke:white;stroke-width:4\"/><line x1=\"110.07692188323011\" y1=\"147.8706002733444\" x2=\"116.13909970972118\" y2=\"151.3706002733444\" stroke-linecap=\"round\" style=\"stroke:white;stroke-width:4\"/><line x1=\"116.13909970972118\" y1=\"151.3706002733444\" x2=\"122.53391791321938\" y2=\"154.217756774875\" stroke-linecap=\"round\" style=\"stroke:white;stroke-width:4\"/><line x1=\"122.53391791321938\" y1=\"154.217756774875\" x2=\"129.19131352728544\" y2=\"156.38087573549964\" stroke-linecap=\"round\" style=\"stroke:white;stroke-width:4\"/><line x1=\"129.19131352728544\" y1=\"156.38087573549964\" x2=\"136.0383467324221\" y2=\"157.83625757122397\" stroke-linecap=\"round\" style=\"stroke:white;stroke-width:4\"/><line x1=\"136.0383467324221\" y1=\"157.83625757122397\" x2=\"143.0\" y2=\"158.56795681409753\" stroke-linecap=\"round\" style=\"stroke:white;stroke-width:4\"/><line x1=\"143.0\" y1=\"158.56795681409753\" x2=\"150.0\" y2=\"158.56795681409753\" stroke-linecap=\"round\" style=\"stroke:white;stroke-width:4\"/><line x1=\"150.0\" y1=\"158.56795681409753\" x2=\"156.9616532675779\" y2=\"157.83625757122397\" stroke-linecap=\"round\" style=\"stroke:white;stroke-width:4\"/><line x1=\"156.9616532675779\" y1=\"157.83625757122397\" x2=\"163.80868647271453\" y2=\"156.38087573549964\" stroke-linecap=\"round\" style=\"stroke:white;stroke-width:4\"/><line x1=\"163.80868647271453\" y1=\"156.38087573549964\" x2=\"170.4660820867806\" y2=\"154.217756774875\" stroke-linecap=\"round\" style=\"stroke:white;stroke-width:4\"/><line x1=\"170.4660820867806\" y1=\"154.217756774875\" x2=\"176.8609002902788\" y2=\"151.3706002733444\" stroke-linecap=\"round\" style=\"stroke:white;stroke-width:4\"/><line x1=\"176.8609002902788\" y1=\"151.3706002733444\" x2=\"182.9230781167699\" y2=\"147.8706002733444\" stroke-linecap=\"round\" style=\"stroke:white;stroke-width:4\"/><line x1=\"182.9230781167699\" y1=\"147.8706002733444\" x2=\"188.58619707739453\" y2=\"143.75610350729707\" stroke-linecap=\"round\" style=\"stroke:white;stroke-width:4\"/><line x1=\"188.58619707739453\" y1=\"143.75610350729707\" x2=\"193.78821085573628\" y2=\"139.07218926278506\" stroke-linecap=\"round\" style=\"stroke:white;stroke-width:4\"/><line x1=\"193.78821085573628\" y1=\"139.07218926278506\" x2=\"198.4721251002483\" y2=\"133.8701754844433\" stroke-linecap=\"round\" style=\"stroke:white;stroke-width:4\"/><line x1=\"198.4721251002483\" y1=\"133.8701754844433\" x2=\"202.58662186629562\" y2=\"128.20705652381866\" stroke-linecap=\"round\" style=\"stroke:white;stroke-width:4\"/><line x1=\"202.58662186629562\" y1=\"128.20705652381866\" x2=\"206.08662186629562\" y2=\"122.1448786973276\" stroke-linecap=\"round\" style=\"stroke:white;stroke-width:4\"/><line x1=\"206.08662186629562\" y1=\"122.1448786973276\" x2=\"208.93377836782622\" y2=\"115.7500604938294\" stroke-linecap=\"round\" style=\"stroke:white;stroke-width:4\"/><line x1=\"208.93377836782622\" y1=\"115.7500604938294\" x2=\"211.09689732845086\" y2=\"109.09266487976332\" stroke-linecap=\"round\" style=\"stroke:white;stroke-width:4\"/><line x1=\"211.09689732845086\" y1=\"109.09266487976332\" x2=\"212.5522791641752\" y2=\"102.24563167462668\" stroke-linecap=\"round\" style=\"stroke:white;stroke-width:4\"/><line x1=\"212.5522791641752\" y1=\"102.24563167462668\" x2=\"213.28397840704875\" y2=\"95.28397840704876\" stroke-linecap=\"round\" style=\"stroke:white;stroke-width:4\"/><line x1=\"213.28397840704875\" y1=\"95.28397840704876\" x2=\"213.28397840704875\" y2=\"88.28397840704876\" stroke-linecap=\"round\" style=\"stroke:white;stroke-width:4\"/><line x1=\"213.28397840704875\" y1=\"88.28397840704876\" x2=\"212.5522791641752\" y2=\"81.32232513947085\" stroke-linecap=\"round\" style=\"stroke:white;stroke-width:4\"/><line x1=\"212.5522791641752\" y1=\"81.32232513947085\" x2=\"211.09689732845086\" y2=\"74.47529193433421\" stroke-linecap=\"round\" style=\"stroke:white;stroke-width:4\"/><line x1=\"211.09689732845086\" y1=\"74.47529193433421\" x2=\"208.93377836782622\" y2=\"67.81789632026813\" stroke-linecap=\"round\" style=\"stroke:white;stroke-width:4\"/><line x1=\"208.93377836782622\" y1=\"67.81789632026813\" x2=\"206.08662186629562\" y2=\"61.42307811676993\" stroke-linecap=\"round\" style=\"stroke:white;stroke-width:4\"/><line x1=\"206.08662186629562\" y1=\"61.42307811676993\" x2=\"202.58662186629562\" y2=\"55.36090029027886\" stroke-linecap=\"round\" style=\"stroke:white;stroke-width:4\"/><line x1=\"202.58662186629562\" y1=\"55.36090029027886\" x2=\"198.4721251002483\" y2=\"49.697781329654234\" stroke-linecap=\"round\" style=\"stroke:white;stroke-width:4\"/><line x1=\"198.4721251002483\" y1=\"49.697781329654234\" x2=\"193.78821085573628\" y2=\"44.495767551312476\" stroke-linecap=\"round\" style=\"stroke:white;stroke-width:4\"/><line x1=\"193.78821085573628\" y1=\"44.495767551312476\" x2=\"188.58619707739453\" y2=\"39.811853306800465\" stroke-linecap=\"round\" style=\"stroke:white;stroke-width:4\"/><line x1=\"188.58619707739453\" y1=\"39.811853306800465\" x2=\"182.9230781167699\" y2=\"35.697356540753155\" stroke-linecap=\"round\" style=\"stroke:white;stroke-width:4\"/><line x1=\"182.9230781167699\" y1=\"35.697356540753155\" x2=\"176.8609002902788\" y2=\"32.197356540753155\" stroke-linecap=\"round\" style=\"stroke:white;stroke-width:4\"/><line x1=\"176.8609002902788\" y1=\"32.197356540753155\" x2=\"170.4660820867806\" y2=\"29.350200039222553\" stroke-linecap=\"round\" style=\"stroke:white;stroke-width:4\"/><line x1=\"170.4660820867806\" y1=\"29.350200039222553\" x2=\"163.80868647271453\" y2=\"27.187081078597924\" stroke-linecap=\"round\" style=\"stroke:white;stroke-width:4\"/><line x1=\"163.80868647271453\" y1=\"27.187081078597924\" x2=\"156.9616532675779\" y2=\"25.731699242873606\" stroke-linecap=\"round\" style=\"stroke:white;stroke-width:4\"/><line x1=\"156.9616532675779\" y1=\"25.731699242873606\" x2=\"150.0\" y2=\"25.000000000000032\" stroke-linecap=\"round\" style=\"stroke:white;stroke-width:4\"/>\n",
              "        \n",
              "      <g visibility=visible transform=\"rotate(90.0,150.0,25.000000000000032) translate(150.0, 25.000000000000032)\">\n",
              "        <circle stroke=\"white\" stroke-width=\"3\" fill=\"transparent\" r=\"12\" cx=\"0\" cy=\"0\"/>\n",
              "        <polygon points=\"0,19 3,16 -3,16\" style=\"fill:white;stroke:white;stroke-width:2\"/>\n",
              "      </g>\n",
              "    \n",
              "      </svg>\n",
              "    "
            ],
            "text/plain": [
              "<IPython.core.display.HTML object>"
            ]
          },
          "metadata": {
            "tags": []
          }
        }
      ]
    }
  ]
}